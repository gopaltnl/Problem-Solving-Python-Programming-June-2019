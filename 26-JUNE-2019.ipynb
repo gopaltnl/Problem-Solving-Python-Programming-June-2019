{
 "cells": [
  {
   "cell_type": "code",
   "execution_count": 5,
   "metadata": {},
   "outputs": [
    {
     "data": {
      "text/plain": [
       "8"
      ]
     },
     "execution_count": 5,
     "metadata": {},
     "output_type": "execute_result"
    }
   ],
   "source": [
    "def second(li):\n",
    "    unique=[]\n",
    "    for n in li:\n",
    "        if n not in unique:\n",
    "            unique.append(n)\n",
    "    unique=sorted(unique,reverse=True)\n",
    "    return unique[1]\n",
    "second([1,2,3,4,5,8,7,9])\n",
    "    \n",
    "    "
   ]
  },
  {
   "cell_type": "code",
   "execution_count": 21,
   "metadata": {},
   "outputs": [
    {
     "data": {
      "text/plain": [
       "-1"
      ]
     },
     "execution_count": 21,
     "metadata": {},
     "output_type": "execute_result"
    }
   ],
   "source": [
    "# Function to find the second largest number in a list\n",
    "\n",
    "def secondLargest(li):\n",
    "    # Convert the list into a unique list\n",
    "    # O(n)\n",
    "    unique = []\n",
    "    for n in li:\n",
    "        if n not in unique:\n",
    "            unique.append(n)\n",
    "    \n",
    "    unique = sorted(unique, reverse=True)\n",
    "    if len(unique) > 1:\n",
    "        return unique[1]\n",
    "    return -1\n",
    "\n",
    "secondLargest([1])\n",
    "\n",
    "# def fifthLeast(li)\n",
    "\n",
    "# def kLargest(li, k)\n",
    "\n",
    "def kSmallest(li, k):\n",
    "    # Extract Unique elements in the list\n",
    "    unique = []\n",
    "    for i in li:\n",
    "        if i not in unique:\n",
    "            unique.append(i)\n",
    "    \n",
    "    # Sort the Unique list in ascending order\n",
    "    unique = sorted(unique)\n",
    "    \n",
    "    #Check if length of unique list is greater than k\n",
    "    if len(unique) >= k:\n",
    "        return unique[k-1]\n",
    "    return -1\n",
    "\n",
    "kSmallest([], 1)"
   ]
  },
  {
   "cell_type": "code",
   "execution_count": 9,
   "metadata": {},
   "outputs": [
    {
     "data": {
      "text/plain": [
       "9"
      ]
     },
     "execution_count": 9,
     "metadata": {},
     "output_type": "execute_result"
    }
   ],
   "source": [
    "def ksmallest(li,k):\n",
    "    \n",
    "    # Extract Unique elements in the list\n",
    "    \n",
    "    unique=[]\n",
    "    for n in li:\n",
    "        if n  not in unique:\n",
    "            unique.append(n)\n",
    "            # sort the unique list in descending order\n",
    "            \n",
    "    unique = sorted(unique)\n",
    "    #check if the length of unique list greater thean k\n",
    "    \n",
    "    unique[k-1]\n",
    "    \n",
    "    if len(unique) >=k:\n",
    "        return unique[k-1]\n",
    "    return -1\n",
    "ksmallest([3,3,9],2)\n",
    "    "
   ]
  },
  {
   "cell_type": "code",
   "execution_count": 10,
   "metadata": {},
   "outputs": [
    {
     "name": "stdout",
     "output_type": "stream",
     "text": [
      "1\n"
     ]
    }
   ],
   "source": [
    "# function to identify the element with highest frequency in a list\n",
    "\n",
    "# if many elements have the have the \n",
    "\n",
    "# highest([1,2,3,9,8,7,3,4,2,1])\n",
    "\n",
    "def highestfreq(li):\n",
    "    unique={}\n",
    "    for i in li:\n",
    "        unique[i]=unique.get(i,0)+1\n",
    "    a=sorted(unique.keys())[0]\n",
    "    return a\n",
    "print(highestfreq([1,2,1,4,5,8,7,6,9]))\n",
    "      \n",
    "            \n",
    "            "
   ]
  },
  {
   "cell_type": "code",
   "execution_count": 12,
   "metadata": {},
   "outputs": [
    {
     "data": {
      "text/plain": [
       "1"
      ]
     },
     "execution_count": 12,
     "metadata": {},
     "output_type": "execute_result"
    }
   ],
   "source": [
    "\n",
    "\n",
    "def highestFrequency(li):\n",
    "    unique = []\n",
    "    for n in li:\n",
    "        if n not in unique:\n",
    "            unique.append(n)\n",
    "    unique = sorted(unique,reverse = True)\n",
    "    highest = unique[0]\n",
    "    c = 0\n",
    "    for i in range(0,len(li)):\n",
    "        if li[i] == highest:\n",
    "            c+=1\n",
    "    #c = unique.count(unique[0])\n",
    "    return c\n",
    "highestFrequency([1,2,3,9,8,7,3,2,4,2,1])\n",
    "    "
   ]
  },
  {
   "cell_type": "code",
   "execution_count": 20,
   "metadata": {},
   "outputs": [
    {
     "name": "stdout",
     "output_type": "stream",
     "text": [
      "{1: 2, 2: 2, 3: 1, 5: 1, 6: 1, 7: 1, 8: 1, 9: 1}\n"
     ]
    },
    {
     "data": {
      "text/plain": [
       "1"
      ]
     },
     "execution_count": 20,
     "metadata": {},
     "output_type": "execute_result"
    }
   ],
   "source": [
    "# function to identify the second highest frequency.\n",
    "# if there are many such elements\n",
    "# [1,2,3,2,1,4,4,9] ->3\n",
    "\n",
    "def secondhighest(li):\n",
    "    freq={}\n",
    "    for i in li:\n",
    "        freq[i]=freq.get(i,0)+1\n",
    "    print(freq)\n",
    "    d=sorted(freq.keys())\n",
    "    d=d[::-1][1]\n",
    "    return freq[d]\n",
    "secondhighest([1,2,3,2,5,6,7,8,9,1])"
   ]
  },
  {
   "cell_type": "code",
   "execution_count": 34,
   "metadata": {},
   "outputs": [
    {
     "data": {
      "text/plain": [
       "4"
      ]
     },
     "execution_count": 34,
     "metadata": {},
     "output_type": "execute_result"
    }
   ],
   "source": [
    "\n",
    "# Function to identify Kth highest frequency element\n",
    "# If there are many such elements, return the smallest\n",
    "# [9,8,7,6,5,2,3,4,9,6,7,7,7,6,7,6], k=4 -> 2\n",
    "\n",
    "def kthighesttFrequency(li,k):\n",
    "    uni = {}\n",
    "    for n in li:\n",
    "        if n in uni:\n",
    "            uni[n]+=1\n",
    "        else:\n",
    "            uni[n]=1\n",
    "    x=[]\n",
    "    vq=[]\n",
    "    for item in uni.items():\n",
    "        x.append(item[1]) \n",
    "    for n in x:\n",
    "        if n not in vq:\n",
    "            vq.append(n)\n",
    "    vq=sorted(vq,reverse=True)\n",
    "    kl=[]\n",
    "    for item in uni.items():\n",
    "        if item[1]==vq[k-1]:\n",
    "            kl.append(item[0])\n",
    "    return min(kl)\n",
    "           \n",
    "       \n",
    "kthighesttFrequency([1,2,3,2,1,4,4,4,1,1,1],2)\n"
   ]
  },
  {
   "cell_type": "code",
   "execution_count": 37,
   "metadata": {},
   "outputs": [
    {
     "name": "stdout",
     "output_type": "stream",
     "text": [
      "{1: 4, 2: 3, 3: 1, 4: 3}\n"
     ]
    },
    {
     "data": {
      "text/plain": [
       "2"
      ]
     },
     "execution_count": 37,
     "metadata": {},
     "output_type": "execute_result"
    }
   ],
   "source": [
    "\n",
    "# Function to identify Kth smallest frequency element\n",
    "# If there are many such elements, return the smallest\n",
    "# [9,8,7,6,5,2,3,4,9,6,7,7,7,6,7,6], k=4 -> 2\n",
    "\n",
    "def kthsmallestFrequency(li,k):\n",
    "    uni = {}\n",
    "    for n in li:\n",
    "        if n in uni:\n",
    "            uni[n]+=1\n",
    "        else:\n",
    "            uni[n]=1\n",
    "    print(uni)\n",
    "    x=[]\n",
    "    vq=[]\n",
    "    for item in uni.items():\n",
    "        x.append(item[1]) \n",
    "    for n in x:\n",
    "        if n not in vq:\n",
    "            vq.append(n)\n",
    "    vq=sorted(vq)\n",
    "    kl=[]\n",
    "    for item in uni.items():\n",
    "        if item[1]==vq[k-1]:\n",
    "            kl.append(item[0])\n",
    "    return min(kl)\n",
    "           \n",
    "kthsmallestFrequency([1,2,3,2,1,4,4,4,1,1,2],2)\n"
   ]
  },
  {
   "cell_type": "code",
   "execution_count": null,
   "metadata": {},
   "outputs": [],
   "source": []
  }
 ],
 "metadata": {
  "kernelspec": {
   "display_name": "Python 3",
   "language": "python",
   "name": "python3"
  },
  "language_info": {
   "codemirror_mode": {
    "name": "ipython",
    "version": 3
   },
   "file_extension": ".py",
   "mimetype": "text/x-python",
   "name": "python",
   "nbconvert_exporter": "python",
   "pygments_lexer": "ipython3",
   "version": "3.7.3"
  }
 },
 "nbformat": 4,
 "nbformat_minor": 2
}
