{
 "cells": [
  {
   "cell_type": "markdown",
   "metadata": {},
   "source": [
    "# Date:22-june-2019\n",
    "\n",
    "# Day Objectives\n",
    "\n",
    "- File Handling:\n",
    "\n",
    "  - Basic File Data Processing\n",
    "  \n",
    "      - Accessing and modifying file data\n",
    "      \n",
    "  - Character count\n",
    "  - line count\n",
    "  - file size\n",
    "  - word count\n",
    "  - unique word count"
   ]
  },
  {
   "cell_type": "code",
   "execution_count": 11,
   "metadata": {},
   "outputs": [
    {
     "name": "stdout",
     "output_type": "stream",
     "text": [
      "hai chalapathi hru\n"
     ]
    }
   ],
   "source": [
    "# Read a File -File should exist\n",
    "\n",
    "# write to a file -existing(append) or new file\n",
    "\n",
    "def readfile(filepath):\n",
    "    with open(filepath,'r') as f:\n",
    "         filedata = f.read() # the entire file data into a string\n",
    "    return filedata\n",
    "filepath = 'datafiles/data.txt'\n",
    "print(readfile(filepath))"
   ]
  },
  {
   "cell_type": "code",
   "execution_count": 15,
   "metadata": {},
   "outputs": [
    {
     "name": "stdout",
     "output_type": "stream",
     "text": [
      "hai chalapathi hrunew datanew datanew datanew data\n"
     ]
    }
   ],
   "source": [
    "# write a file should be exists\n",
    "\n",
    "def writeFile(filename,filedata):\n",
    "    with open(filename,'a') as f:\n",
    "        f.write(filedata)\n",
    "    return \n",
    "filename = 'datafiles/data.txt'\n",
    "\n",
    "writeFile(filename,\"new data\") \n",
    "print(readfile(filename))"
   ]
  },
  {
   "cell_type": "code",
   "execution_count": 26,
   "metadata": {},
   "outputs": [
    {
     "name": "stdout",
     "output_type": "stream",
     "text": [
      "50\n"
     ]
    }
   ],
   "source": [
    "# character count in file\n",
    "def countchar(filename):\n",
    "    with open(filename,'r') as f: \n",
    "        print(len(f.read()))\n",
    "countchar('datafiles/data.txt')"
   ]
  },
  {
   "cell_type": "code",
   "execution_count": 44,
   "metadata": {},
   "outputs": [
    {
     "name": "stdout",
     "output_type": "stream",
     "text": [
      "101 bytes\n"
     ]
    }
   ],
   "source": [
    "# the length of filesize  \n",
    "\n",
    "def filsize(filename):\n",
    "    with open(filename,'r') as f: \n",
    "        print(len(f.read()),\"bytes\")\n",
    "filsize('datafiles/data.txt')"
   ]
  },
  {
   "cell_type": "code",
   "execution_count": 54,
   "metadata": {},
   "outputs": [
    {
     "name": "stdout",
     "output_type": "stream",
     "text": [
      "1\n"
     ]
    }
   ],
   "source": [
    "# linescount in file\n",
    "def linecount(filename):\n",
    "    with open(filename,'r') as f: \n",
    "        count=len(f.readlines())\n",
    "    print(count)\n",
    "              \n",
    "linecount('datafiles/data.txt')"
   ]
  },
  {
   "cell_type": "code",
   "execution_count": 43,
   "metadata": {},
   "outputs": [
    {
     "name": "stdout",
     "output_type": "stream",
     "text": [
      "14\n"
     ]
    }
   ],
   "source": [
    "# word count in file\n",
    "def countword(filename):\n",
    "    with open(filename,'r') as f:\n",
    "        filedata=f.read().split()\n",
    "    print(len(filedata))\n",
    "              \n",
    "countword('datafiles/data.txt')"
   ]
  },
  {
   "cell_type": "code",
   "execution_count": 47,
   "metadata": {},
   "outputs": [
    {
     "data": {
      "text/plain": [
       "[1, 2, 3]"
      ]
     },
     "execution_count": 47,
     "metadata": {},
     "output_type": "execute_result"
    }
   ],
   "source": [
    "# function to get unique elements in a list\n",
    "\n",
    "#  [1,2,3,3,2,1] ->[1,2,3]\n",
    "\n",
    "def uniquedata(li): \n",
    "    unique = [] \n",
    "    for element in li:\n",
    "        if element not in unique:\n",
    "            unique.append(element)\n",
    "    return unique\n",
    "li = [1,2,3,3,2,1]\n",
    "uniquedata(li)\n",
    "\n",
    "    "
   ]
  },
  {
   "cell_type": "code",
   "execution_count": 53,
   "metadata": {},
   "outputs": [
    {
     "name": "stdout",
     "output_type": "stream",
     "text": [
      "['gopal', 'mani'] Length Is: 2\n"
     ]
    }
   ],
   "source": [
    "def uniquewordcount(filename):\n",
    "    count=0\n",
    "    with open(filename,'r') as f:\n",
    "        filedata=f.read().split()\n",
    "        ls = [] \n",
    "        for i in filedata:\n",
    "            if i not in ls:\n",
    "                ls.append(i)\n",
    "        print(ls,\"Length Is:\",len(ls))\n",
    "uniquewordcount('datafiles/data.txt')"
   ]
  },
  {
   "cell_type": "code",
   "execution_count": 58,
   "metadata": {},
   "outputs": [
    {
     "name": "stdout",
     "output_type": "stream",
     "text": [
      "Word : count\n",
      "-----------------\n",
      "Data   3\n",
      "in   3\n",
      "Line   3\n",
      "1   1\n",
      "2   1\n",
      "3   1\n"
     ]
    }
   ],
   "source": [
    "#function to count the\n",
    "def uniword(filename):\n",
    "    count = 0\n",
    "    with open(filename,'r') as f:\n",
    "        filedata = f.read().split()\n",
    "        ds = {}\n",
    "        ls = []\n",
    "        print(\"Word\",\":\",    \"count\")\n",
    "        print(\"-----------------\")\n",
    "        for i in range(0,len(filedata)):\n",
    "            count=0\n",
    "            temp = []\n",
    "            if filedata[i] in filedata:\n",
    "                for j in range(0,len(filedata)):\n",
    "                    if(filedata[i]==filedata[j]):\n",
    "                        count +=1\n",
    "                        temp.append(filedata[i])\n",
    "            ds[filedata[i]] = temp\n",
    "        for key in ds:\n",
    "            print(key,\" \",len(ds[key]))\n",
    "uniword('datafiles/data.txt')\n",
    "    \n",
    "    "
   ]
  },
  {
   "cell_type": "code",
   "execution_count": null,
   "metadata": {},
   "outputs": [],
   "source": [
    "# function to print the frequency count of all words in afile\n",
    "\n",
    "# frequency distribution\n",
    "\n",
    "# Data in Line 1\n",
    "# Data in Line 2\n",
    "# Data in Line 3\n",
    "\n",
    "#o/p\n",
    "\n",
    "#data:3\n",
    "#in:3\n",
    "#line:3\n",
    "#1 :1\n",
    "#2 :1\n",
    "#3 :1\n",
    "\n"
   ]
  },
  {
   "cell_type": "code",
   "execution_count": null,
   "metadata": {},
   "outputs": [],
   "source": [
    "# contacts application\n",
    "\n",
    "# find and replace application\n"
   ]
  }
 ],
 "metadata": {
  "kernelspec": {
   "display_name": "Python 3",
   "language": "python",
   "name": "python3"
  },
  "language_info": {
   "codemirror_mode": {
    "name": "ipython",
    "version": 3
   },
   "file_extension": ".py",
   "mimetype": "text/x-python",
   "name": "python",
   "nbconvert_exporter": "python",
   "pygments_lexer": "ipython3",
   "version": "3.7.3"
  }
 },
 "nbformat": 4,
 "nbformat_minor": 2
}
