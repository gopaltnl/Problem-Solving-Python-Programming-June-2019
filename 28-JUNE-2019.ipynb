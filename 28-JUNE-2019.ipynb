{
 "cells": [
  {
   "cell_type": "markdown",
   "metadata": {},
   "source": [
    "# Day Objectives:\n",
    "\n",
    "- Map\n",
    "\n",
    "- Lambda\n",
    "\n",
    "- Filter\n",
    "\n",
    "- UseCases-File/Data Encryption\n",
    "\n"
   ]
  },
  {
   "cell_type": "code",
   "execution_count": null,
   "metadata": {},
   "outputs": [],
   "source": [
    "## Implementation of Map In Python\n",
    "\n",
    "Mapping -  Entity with a function\n",
    "\n",
    "f: x^2+3*x+9\n",
    "\n",
    "x:.[1,10].\n",
    "    \n",
    "\n",
    "f(x)->\n",
    "\n",
    "f(1)->13\n",
    "\n",
    "f(2)->19\n",
    "\n",
    "y = f(x)\n",
    "\n",
    "  f:x^2\n",
    "----------\n",
    "x      y\n",
    "----------\n",
    "1      1\n",
    "2      4\n",
    "3      9 \n",
    "4      16\n",
    "----------\n",
    "\n",
    "map(function,Iterable)\n"
   ]
  },
  {
   "cell_type": "code",
   "execution_count": 2,
   "metadata": {},
   "outputs": [
    {
     "data": {
      "text/plain": [
       "1024"
      ]
     },
     "execution_count": 2,
     "metadata": {},
     "output_type": "execute_result"
    }
   ],
   "source": [
    "# Example For Maps\n",
    "\n",
    "def powerN(a,n):\n",
    "    #return a ** n\n",
    "    r=1\n",
    "    for i in range(0,n):\n",
    "        r *= a\n",
    "    return r\n",
    "powerN(2,10)\n",
    "        \n",
    "        "
   ]
  },
  {
   "cell_type": "code",
   "execution_count": 4,
   "metadata": {},
   "outputs": [
    {
     "data": {
      "text/plain": [
       "1024"
      ]
     },
     "execution_count": 4,
     "metadata": {},
     "output_type": "execute_result"
    }
   ],
   "source": [
    "def recursion(a,n):\n",
    "    \n",
    "    if n == 0:\n",
    "        return 1\n",
    "    else:\n",
    "        return a * recursion(a,n-1)\n",
    "recursion(2,10)"
   ]
  },
  {
   "cell_type": "code",
   "execution_count": 5,
   "metadata": {},
   "outputs": [
    {
     "data": {
      "text/plain": [
       "8"
      ]
     },
     "execution_count": 5,
     "metadata": {},
     "output_type": "execute_result"
    }
   ],
   "source": [
    "# Example For Maps\n",
    "\n",
    "def powerN(a,n):\n",
    "    #return a ** n\n",
    "    r=1\n",
    "    for i in range(0,n):\n",
    "        r *= a\n",
    "    return r\n",
    "powerN(2,3)\n",
    "        "
   ]
  },
  {
   "cell_type": "code",
   "execution_count": 7,
   "metadata": {},
   "outputs": [
    {
     "data": {
      "text/plain": [
       "{1, 8, 27, 64, 125, 216}"
      ]
     },
     "execution_count": 7,
     "metadata": {},
     "output_type": "execute_result"
    }
   ],
   "source": [
    "def cube(n):\n",
    "    return n ** 3\n",
    "li = [1,2,3,4,5,6]\n",
    "\n",
    "set(map(cube,li))\n"
   ]
  },
  {
   "cell_type": "code",
   "execution_count": 9,
   "metadata": {},
   "outputs": [
    {
     "data": {
      "text/plain": [
       "{729}"
      ]
     },
     "execution_count": 9,
     "metadata": {},
     "output_type": "execute_result"
    }
   ],
   "source": [
    "def cube(n):\n",
    "    return n ** 3\n",
    "li = [1,2,3,4,5,6]\n",
    "\n",
    "set(map(cube,[9]))\n"
   ]
  },
  {
   "cell_type": "code",
   "execution_count": 11,
   "metadata": {},
   "outputs": [
    {
     "data": {
      "text/plain": [
       "{1, 2, 3, 4, 5, 6}"
      ]
     },
     "execution_count": 11,
     "metadata": {},
     "output_type": "execute_result"
    }
   ],
   "source": [
    "def cube(n):\n",
    "    return n ** 3\n",
    "li = ['1','2','3','4','5','6']\n",
    "\n",
    "set(map(int,li))\n",
    "\n"
   ]
  },
  {
   "cell_type": "code",
   "execution_count": 13,
   "metadata": {},
   "outputs": [
    {
     "data": {
      "text/plain": [
       "['1', '2', '3', '4', '5', '6']"
      ]
     },
     "execution_count": 13,
     "metadata": {},
     "output_type": "execute_result"
    }
   ],
   "source": [
    "def cube(n):\n",
    "    \n",
    "    return n ** 3\n",
    "\n",
    "li = ['1','2','3','4','5','6']\n",
    "\n",
    "li2=list(map(int,li))\n",
    "\n",
    "set(map(int,li))\n",
    "\n",
    "list(map(str,li2))"
   ]
  },
  {
   "cell_type": "code",
   "execution_count": 18,
   "metadata": {},
   "outputs": [
    {
     "data": {
      "text/plain": [
       "(1.0, 2.0, 3.0, 4.0, 5.0, 6.0)"
      ]
     },
     "execution_count": 18,
     "metadata": {},
     "output_type": "execute_result"
    }
   ],
   "source": [
    "def cube(n):\n",
    "    \n",
    "    return n ** 3\n",
    "\n",
    "li = ['1','2','3','4','5','6']\n",
    "\n",
    "li2=list(map(int,li))\n",
    "\n",
    "set(map(int,li))\n",
    "\n",
    "tuple(map(float,li2))"
   ]
  },
  {
   "cell_type": "markdown",
   "metadata": {},
   "source": [
    "# Filter :\n"
   ]
  },
  {
   "cell_type": "markdown",
   "metadata": {},
   "source": [
    "Used To Check Boolean Values:\n",
    "    "
   ]
  },
  {
   "cell_type": "code",
   "execution_count": 23,
   "metadata": {},
   "outputs": [
    {
     "data": {
      "text/plain": [
       "False"
      ]
     },
     "execution_count": 23,
     "metadata": {},
     "output_type": "execute_result"
    }
   ],
   "source": [
    "li= [1,2,3,4,5,'a','b',6,7,8,9]\n",
    "\n",
    "def isdigit(c):\n",
    "    if c.isdigit():\n",
    "        return True\n",
    "    return False\n",
    "\n",
    "isdigit('a')\n"
   ]
  },
  {
   "cell_type": "code",
   "execution_count": 31,
   "metadata": {},
   "outputs": [
    {
     "data": {
      "text/plain": [
       "[1, 2, 3]"
      ]
     },
     "execution_count": 31,
     "metadata": {},
     "output_type": "execute_result"
    }
   ],
   "source": [
    "\n",
    "li= [1,2,3,'a','b']\n",
    "\n",
    "def isdigit(c):\n",
    "    c=str(c)\n",
    "    if c.isdigit():\n",
    "        return True\n",
    "    return False\n",
    "\n",
    "isdigit('a')\n",
    "\n",
    "list(filter(isdigit,li))\n",
    "\n",
    "\n",
    "\n",
    "\n",
    "    "
   ]
  },
  {
   "cell_type": "code",
   "execution_count": 32,
   "metadata": {},
   "outputs": [
    {
     "data": {
      "text/plain": [
       "['a', 'b']"
      ]
     },
     "execution_count": 32,
     "metadata": {},
     "output_type": "execute_result"
    }
   ],
   "source": [
    "\n",
    "li= [1,2,3,'a','b']\n",
    "\n",
    "def isdigit(c):\n",
    "    c=str(c)\n",
    "    if c.isdigit():\n",
    "        return 0\n",
    "    return 1\n",
    "\n",
    "isdigit('a')\n",
    "\n",
    "list(filter(isdigit,li))\n",
    "\n",
    "\n",
    "\n",
    "\n",
    "    "
   ]
  },
  {
   "cell_type": "code",
   "execution_count": 33,
   "metadata": {},
   "outputs": [
    {
     "data": {
      "text/plain": [
       "[1, 2, 3, 'a', 'b']"
      ]
     },
     "execution_count": 33,
     "metadata": {},
     "output_type": "execute_result"
    }
   ],
   "source": [
    "\n",
    "li= [1,2,3,'a','b']\n",
    "\n",
    "def isdigit(c):\n",
    "    c=str(c)\n",
    "    if c.isdigit():\n",
    "        return -1\n",
    "    return 1\n",
    "\n",
    "isdigit('a')\n",
    "\n",
    "list(filter(isdigit,li))\n",
    "\n"
   ]
  },
  {
   "cell_type": "code",
   "execution_count": 34,
   "metadata": {},
   "outputs": [
    {
     "data": {
      "text/plain": [
       "[1, 2, 3]"
      ]
     },
     "execution_count": 34,
     "metadata": {},
     "output_type": "execute_result"
    }
   ],
   "source": [
    "\n",
    "li= [1,2,3,'a','b']\n",
    "\n",
    "def isdigit(c):\n",
    "    c=str(c)\n",
    "    if c.isdigit():\n",
    "        return True\n",
    "    return False\n",
    "\n",
    "isdigit('a')\n",
    "\n",
    "list(filter(isdigit,li))\n"
   ]
  },
  {
   "cell_type": "code",
   "execution_count": 55,
   "metadata": {},
   "outputs": [
    {
     "name": "stdout",
     "output_type": "stream",
     "text": [
      "[503, 509, 521, 523, 541, 547, 557, 563, 569, 571, 577, 587, 593, 599]\n",
      "[503, 509, 521, 523, 541, 547, 557, 563, 569, 571, 577, 587, 593, 599]\n"
     ]
    }
   ],
   "source": [
    "# identify the all primes in a range using filter concept\n",
    "\n",
    "def checkprime(c):\n",
    "    f=True\n",
    "    for j in range(2,c//2+1):\n",
    "        if c%j==0:\n",
    "            f=False\n",
    "            return f\n",
    "    else:\n",
    "        return f\n",
    "\n",
    "lb,ub=500,600\n",
    "\n",
    "print(list(filter(checkprime,range(500,600+1))))\n",
    "\n",
    "print([ i for i in range(lb,ub+1) if checkprime(i)])\n",
    "\n",
    "# map fails the above opearation because of map doesn't apply conditional checking\n",
    "\n",
    "\n",
    "\n"
   ]
  },
  {
   "cell_type": "markdown",
   "metadata": {},
   "source": [
    "## Lambda:\n"
   ]
  },
  {
   "cell_type": "markdown",
   "metadata": {},
   "source": [
    "Anonymous Functions\n",
    "\n",
    "Can Be Embedded Into Lists,Maps,Filters."
   ]
  },
  {
   "cell_type": "code",
   "execution_count": 61,
   "metadata": {},
   "outputs": [
    {
     "data": {
      "text/plain": [
       "27"
      ]
     },
     "execution_count": 61,
     "metadata": {},
     "output_type": "execute_result"
    }
   ],
   "source": [
    "a = lambda x: x ** 3\n",
    "a(3)"
   ]
  },
  {
   "cell_type": "code",
   "execution_count": 68,
   "metadata": {},
   "outputs": [
    {
     "data": {
      "text/plain": [
       "[2, 4, 6]"
      ]
     },
     "execution_count": 68,
     "metadata": {},
     "output_type": "execute_result"
    }
   ],
   "source": [
    "a = lambda x: x ** 3\n",
    "list(map(lambda x:x**3,[1,2,3,4,5,6]))\n",
    "list(filter(lambda x:(x % 2 == 0),[1,2,3,4,5,6]))"
   ]
  },
  {
   "cell_type": "code",
   "execution_count": 70,
   "metadata": {},
   "outputs": [
    {
     "data": {
      "text/plain": [
       "[1, 3, 5]"
      ]
     },
     "execution_count": 70,
     "metadata": {},
     "output_type": "execute_result"
    }
   ],
   "source": [
    "a = lambda x: x ** 3\n",
    "list(map(lambda x:x**3,[1,2,3,4,5,6]))\n",
    "list(filter(lambda x:(x % 2!= 0),[1,2,3,4,5,6]))"
   ]
  },
  {
   "cell_type": "code",
   "execution_count": 73,
   "metadata": {},
   "outputs": [
    {
     "data": {
      "text/plain": [
       "[5.5, 10.5, 12.0, 10.5, 13.0, 12.5, 9.5, 12.5, 6.0, 12.5]"
      ]
     },
     "execution_count": 73,
     "metadata": {},
     "output_type": "execute_result"
    }
   ],
   "source": [
    "from random import randint\n",
    "internalmarks1 = [randint(0,25) for i in range(10)]\n",
    "internalmarks2 = [randint(0,25) for i in range(10)]\n",
    "averageinternalmarks = list(map(lambda x,y:(x+y)/2,internalmarks1,internalmarks2))                        \n",
    "averageinternalmarks"
   ]
  },
  {
   "cell_type": "code",
   "execution_count": 75,
   "metadata": {},
   "outputs": [
    {
     "data": {
      "text/plain": [
       "[21.5, 29.5, 23.5, 18.0, 19.5, 18.0, 26.0, 20.0, 27.0, 21.5]"
      ]
     },
     "execution_count": 75,
     "metadata": {},
     "output_type": "execute_result"
    }
   ],
   "source": [
    "from random import randint\n",
    "internalmarks1 = [randint(0,25) for i in range(10)]\n",
    "internalmarks2 = [randint(0,25) for i in range(10)]\n",
    "internalmarks3 = [randint(0,25) for i in range(10)]\n",
    "averageinternalmarks = list(map(lambda x,y,z:(x+y+z)/2,internalmarks1,internalmarks2,internalmarks3))                        \n",
    "averageinternalmarks"
   ]
  },
  {
   "cell_type": "code",
   "execution_count": 83,
   "metadata": {},
   "outputs": [
    {
     "name": "stdout",
     "output_type": "stream",
     "text": [
      "Average Marks for student: [12.5, 17.0, 4.5, 14.5, 9.0, 9.0, 4.0, 14.0, 19.5, 10.0]\n",
      "Failed  Marks Students: [4.5, 9.0, 9.0, 4.0]\n"
     ]
    }
   ],
   "source": [
    "from random import randint\n",
    "internalmarks1 = [randint(0,25) for i in range(10)]\n",
    "internalmarks2 = [randint(0,25) for i in range(10)]\n",
    "averageinternalmarks = list(map(lambda x,y:(x+y)/2,internalmarks1,internalmarks2))                        \n",
    "print('Average Marks for student:',averageinternalmarks)\n",
    "failedmarks=list(filter(lambda x: x<10,averageinternalmarks))\n",
    "print('Failed  Marks Students:',failedmarks)\n"
   ]
  },
  {
   "cell_type": "markdown",
   "metadata": {},
   "source": [
    "### Applying the Functional Programming To the Marks Application?\n"
   ]
  },
  {
   "cell_type": "code",
   "execution_count": 119,
   "metadata": {},
   "outputs": [],
   "source": [
    "# Generate Marks Data\n",
    "from random import randint\n",
    "\n",
    "def generatemarks(n,lb,ub):\n",
    "    \n",
    "    filename='datafiles/marks.txt'\n",
    "    \n",
    "    with open(filename,'w') as f:\n",
    "        \n",
    "        for i in range(n):\n",
    "            \n",
    "            marks=randint(lb,ub)\n",
    "            \n",
    "            f.write(str(marks)+'\\n')\n",
    "            \n",
    "    return\n",
    "generatemarks(300,0,100)\n",
    "        \n",
    "        \n",
    "    \n",
    "    \n",
    "    "
   ]
  },
  {
   "cell_type": "markdown",
   "metadata": {},
   "source": [
    "# Marks Analysis\n",
    "\n",
    "# Class Average\n",
    "# % passed\n",
    "# %failed\n",
    "# Distinction\n",
    "\n"
   ]
  },
  {
   "cell_type": "code",
   "execution_count": 92,
   "metadata": {},
   "outputs": [
    {
     "data": {
      "text/plain": [
       "54"
      ]
     },
     "execution_count": 92,
     "metadata": {},
     "output_type": "execute_result"
    }
   ],
   "source": [
    "def readmarks(filepath):\n",
    "     with open(filepath,'r') as f:\n",
    "        filedata=f.read().split()    \n",
    "        return list(map(int,filedata))\n",
    "    \n",
    "def classavg(filepath):\n",
    "    markslist=readmarks(filepath)\n",
    "    \n",
    "    with open(filepath,'r') as f:\n",
    "        filedata=f.read().split()    \n",
    "    markslist=list(map(int,filedata))\n",
    "        \n",
    "    return sum(markslist)//len(markslist)\n",
    "filepath='datafiles/marks.txt'\n",
    "\n",
    "classavg(filepath)\n",
    "        \n",
    "        "
   ]
  },
  {
   "cell_type": "code",
   "execution_count": 94,
   "metadata": {},
   "outputs": [
    {
     "data": {
      "text/plain": [
       "4.666666666666667"
      ]
     },
     "execution_count": 94,
     "metadata": {},
     "output_type": "execute_result"
    }
   ],
   "source": [
    "def perfail(filepath):\n",
    "    markslist=readmarks(filepath)\n",
    "    failcount=len(list(filter(lambda  mark: mark<40,markslist)))\n",
    "    return failcount/3\n",
    "perfail(filepath)"
   ]
  },
  {
   "cell_type": "code",
   "execution_count": 95,
   "metadata": {},
   "outputs": [
    {
     "data": {
      "text/plain": [
       "95.33333333333333"
      ]
     },
     "execution_count": 95,
     "metadata": {},
     "output_type": "execute_result"
    }
   ],
   "source": [
    "def perpass(filepath):\n",
    "    return 100-perfail(filepath)\n",
    "perpass(filepath)"
   ]
  },
  {
   "cell_type": "code",
   "execution_count": 99,
   "metadata": {},
   "outputs": [
    {
     "data": {
      "text/plain": [
       "37.5"
      ]
     },
     "execution_count": 99,
     "metadata": {},
     "output_type": "execute_result"
    }
   ],
   "source": [
    "def distinction(filepath):\n",
    "    markslist=readmarks(filepath)\n",
    "    distcount=len(list(filter(lambda  mark: mark>70,markslist)))\n",
    "    return (distcount/len(markslist))*100\n",
    "distinction(filepath)"
   ]
  },
  {
   "cell_type": "code",
   "execution_count": 110,
   "metadata": {},
   "outputs": [
    {
     "data": {
      "text/plain": [
       "2"
      ]
     },
     "execution_count": 110,
     "metadata": {},
     "output_type": "execute_result"
    }
   ],
   "source": [
    "def highfreq(filepath):\n",
    "    markslist=readmarks(filepath)\n",
    "    return markslist.count(max(markslist))\n",
    "highfreq(filepath)\n",
    "    \n",
    "    "
   ]
  },
  {
   "cell_type": "code",
   "execution_count": 111,
   "metadata": {},
   "outputs": [
    {
     "data": {
      "text/plain": [
       "1"
      ]
     },
     "execution_count": 111,
     "metadata": {},
     "output_type": "execute_result"
    }
   ],
   "source": [
    "def lowfreq(filepath):\n",
    "    markslist=readmarks(filepath)\n",
    "    return markslist.count(min(markslist))\n",
    "lowfreq(filepath)\n",
    "    "
   ]
  },
  {
   "cell_type": "markdown",
   "metadata": {},
   "source": [
    "# DataEncryption"
   ]
  },
  {
   "cell_type": "code",
   "execution_count": null,
   "metadata": {},
   "outputs": [],
   "source": [
    "Key - Mapping of characters with replaced\n",
    "\n",
    "0 -> 4\n",
    "1 -> 5\n",
    "2 -> 6\n",
    "3 -> 7\n",
    "4 -> 8\n",
    "5 -> 9\n",
    "6 -> 0\n",
    "7 -> 1\n",
    "8 -> 2\n",
    "9 -> 3\n",
    "\n",
    "0 4\n",
    "1 5\n",
    "2 6\n",
    "3 7\n",
    ". .\n",
    ". .\n",
    "\n"
   ]
  },
  {
   "cell_type": "code",
   "execution_count": 114,
   "metadata": {},
   "outputs": [],
   "source": [
    "# Function to generate key for encryption\n",
    "\n",
    "keypath ='datafiles/key.txt'\n",
    "\n",
    "def generatekey(keypath):\n",
    "    \n",
    "    with open(keypath,'w') as f:\n",
    "        \n",
    "        for i in range(10):\n",
    "            \n",
    "            if i<6:\n",
    "                \n",
    "                f.write(str(i)+' '+str(i+4)+'\\n')\n",
    "            else:\n",
    "                \n",
    "                f.write(str(i)+' '+str(i-6)+'\\n')\n",
    "    return\n",
    "\n",
    "generatekey(keypath)\n",
    "                \n",
    "            \n",
    "          "
   ]
  },
  {
   "cell_type": "code",
   "execution_count": 123,
   "metadata": {},
   "outputs": [
    {
     "data": {
      "text/plain": [
       "{'0': '4',\n",
       " '1': '5',\n",
       " '2': '6',\n",
       " '3': '7',\n",
       " '4': '8',\n",
       " '5': '9',\n",
       " '6': '0',\n",
       " '7': '1',\n",
       " '8': '2',\n",
       " '9': '3'}"
      ]
     },
     "execution_count": 123,
     "metadata": {},
     "output_type": "execute_result"
    }
   ],
   "source": [
    "# function to encrypt a data file\n",
    "keyfile='datafiles/key.txt'\n",
    "def dictionarykeyfile(keyfile):\n",
    "    key={}\n",
    "    \n",
    "    with open(keyfile,'r') as f:\n",
    "        for line in f:\n",
    "            line=line.split()\n",
    "            key[line[0]] = line[1]\n",
    "    return key\n",
    "\n",
    "dictionarykeyfile(keyfile)        \n",
    "\n",
    "# def encryptmarksdata(datafile,keyfile)\n",
    "\n",
    "#constructing a dictionary for key data\n",
    "\n"
   ]
  },
  {
   "cell_type": "code",
   "execution_count": null,
   "metadata": {},
   "outputs": [],
   "source": []
  },
  {
   "cell_type": "code",
   "execution_count": null,
   "metadata": {},
   "outputs": [],
   "source": []
  },
  {
   "cell_type": "code",
   "execution_count": null,
   "metadata": {},
   "outputs": [],
   "source": []
  },
  {
   "cell_type": "code",
   "execution_count": null,
   "metadata": {},
   "outputs": [],
   "source": []
  },
  {
   "cell_type": "code",
   "execution_count": null,
   "metadata": {},
   "outputs": [],
   "source": []
  }
 ],
 "metadata": {
  "kernelspec": {
   "display_name": "Python 3",
   "language": "python",
   "name": "python3"
  },
  "language_info": {
   "codemirror_mode": {
    "name": "ipython",
    "version": 3
   },
   "file_extension": ".py",
   "mimetype": "text/x-python",
   "name": "python",
   "nbconvert_exporter": "python",
   "pygments_lexer": "ipython3",
   "version": "3.7.3"
  }
 },
 "nbformat": 4,
 "nbformat_minor": 2
}
