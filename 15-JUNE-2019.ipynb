{
 "cells": [
  {
   "cell_type": "code",
   "execution_count": 3,
   "metadata": {},
   "outputs": [
    {
     "data": {
      "text/plain": [
       "[1, 2, 3, 4, 22]"
      ]
     },
     "execution_count": 3,
     "metadata": {},
     "output_type": "execute_result"
    }
   ],
   "source": [
    "l=[1,2,3,4]\n",
    "l.append(22)\n",
    "l"
   ]
  },
  {
   "cell_type": "code",
   "execution_count": 8,
   "metadata": {},
   "outputs": [
    {
     "data": {
      "text/plain": [
       "[1, 2, 3, 22, [2, 37, 77]]"
      ]
     },
     "execution_count": 8,
     "metadata": {},
     "output_type": "execute_result"
    }
   ],
   "source": [
    "l=[1,2,3,22]\n",
    "l.append([2,37,77])\n",
    "l"
   ]
  },
  {
   "cell_type": "code",
   "execution_count": 9,
   "metadata": {},
   "outputs": [
    {
     "data": {
      "text/plain": [
       "22"
      ]
     },
     "execution_count": 9,
     "metadata": {},
     "output_type": "execute_result"
    }
   ],
   "source": [
    "l=[1,2,3,22]\n",
    "l.append([2,37,77])\n",
    "l.pop(3)"
   ]
  },
  {
   "cell_type": "code",
   "execution_count": 10,
   "metadata": {},
   "outputs": [
    {
     "data": {
      "text/plain": [
       "3"
      ]
     },
     "execution_count": 10,
     "metadata": {},
     "output_type": "execute_result"
    }
   ],
   "source": [
    "l=[1,2,3,22]\n",
    "l.append([2,37,77])\n",
    "l.pop(2)"
   ]
  },
  {
   "cell_type": "raw",
   "metadata": {},
   "source": [
    "l=[1,2,3,22]\n",
    "l.push(44)\n",
    "l"
   ]
  },
  {
   "cell_type": "code",
   "execution_count": 15,
   "metadata": {},
   "outputs": [
    {
     "data": {
      "text/plain": [
       "[1, 2, 3, 22, [55]]"
      ]
     },
     "execution_count": 15,
     "metadata": {},
     "output_type": "execute_result"
    }
   ],
   "source": [
    "l=[1,2,3,22]\n",
    "l.append([55])\n",
    "l\n"
   ]
  },
  {
   "cell_type": "code",
   "execution_count": 17,
   "metadata": {},
   "outputs": [
    {
     "name": "stdout",
     "output_type": "stream",
     "text": [
      "[1, 2, 3, 4, 10, 5, 6, 7]\n",
      "['G', 'a', 'b', 'c', 'd', 'e']\n"
     ]
    }
   ],
   "source": [
    "list1 = [ 1, 2, 3, 4, 5, 6, 7 ] \n",
    "list1.insert(4, 10)  \n",
    "print(list1)  \n",
    "list2 = ['a', 'b', 'c', 'd', 'e']  \n",
    "list2.insert(0, 'G') \n",
    "print(list2) "
   ]
  },
  {
   "cell_type": "code",
   "execution_count": 18,
   "metadata": {},
   "outputs": [
    {
     "name": "stdout",
     "output_type": "stream",
     "text": [
      "[1, 2, 13, 3, 4, 5, 6]\n"
     ]
    }
   ],
   "source": [
    "# Python3 program for Insertion in a list   \n",
    "# before any element using insert() method  \n",
    "  \n",
    "list1 = [ 1, 2, 3, 4, 5, 6 ] \n",
    "  \n",
    "# Element to be inserted  \n",
    "element = 13 \n",
    "  \n",
    "# Element to be inserted before 3 \n",
    "beforeElement = 3 \n",
    "  \n",
    "# Find index \n",
    "index = list1.index(beforeElement)  \n",
    "  \n",
    "# Insert element at beforeElement  \n",
    "list1.insert(index, element)  \n",
    "print(list1) "
   ]
  },
  {
   "cell_type": "code",
   "execution_count": 27,
   "metadata": {},
   "outputs": [
    {
     "name": "stdout",
     "output_type": "stream",
     "text": [
      "trainers list :  [123, 'gopal', 'chala', 2009, 'shiva']\n"
     ]
    }
   ],
   "source": [
    "names = [123, 'gopal', 'chala', 'shiva']\n",
    "names.insert( 3, 2009)\n",
    "print(\"trainers list : \", names)"
   ]
  },
  {
   "cell_type": "code",
   "execution_count": 31,
   "metadata": {},
   "outputs": [
    {
     "name": "stdout",
     "output_type": "stream",
     "text": [
      "1\n"
     ]
    },
    {
     "data": {
      "text/plain": [
       "[1, 1, 2, 2, 3]"
      ]
     },
     "execution_count": 31,
     "metadata": {},
     "output_type": "execute_result"
    }
   ],
   "source": [
    "li = [-1,-2,2,3,1]\n",
    "li.sort()\n",
    "pl = []\n",
    "\n",
    "for i in li:\n",
    "     pl.append(abs(i))\n",
    "pl.sort()\n",
    "if pl[0] in li:\n",
    "    print(pl[0])\n",
    "else:\n",
    "    print(-pl[0])\n",
    "pl"
   ]
  },
  {
   "cell_type": "code",
   "execution_count": 33,
   "metadata": {},
   "outputs": [
    {
     "name": "stdout",
     "output_type": "stream",
     "text": [
      "-1\n"
     ]
    },
    {
     "data": {
      "text/plain": [
       "[1, 1, 2, 2, 3]"
      ]
     },
     "execution_count": 33,
     "metadata": {},
     "output_type": "execute_result"
    }
   ],
   "source": [
    "li = [-1,-2,2,3,1]\n",
    "li.sort()\n",
    "pl = []\n",
    "\n",
    "for i in li:\n",
    "     pl.append(abs(i))\n",
    "pl.sort()\n",
    "if pl[0] in li:\n",
    "     print(-pl[0])\n",
    "else:\n",
    "       print(pl[0])  \n",
    "pl"
   ]
  },
  {
   "cell_type": "code",
   "execution_count": 40,
   "metadata": {},
   "outputs": [
    {
     "data": {
      "text/plain": [
       "'chemistry'"
      ]
     },
     "execution_count": 40,
     "metadata": {},
     "output_type": "execute_result"
    }
   ],
   "source": [
    "list1 = ['physics', 'chemistry', 1997, 2000];\n",
    "list1.pop(1)\n"
   ]
  },
  {
   "cell_type": "code",
   "execution_count": null,
   "metadata": {},
   "outputs": [],
   "source": [
    "### Farathest from zero\n",
    "\n",
    "li = [-1,-2,2,3,1,-100]\n",
    "li.sort()\n",
    "pl = []\n",
    "\n",
    "for i in li:\n",
    "     pl.append(abs(i))\n",
    "pl.sort()\n",
    "if pl[-1] in li:\n",
    "     print(-pl[-1])\n",
    "else:\n",
    "       print(-pl[-1])  \n",
    "pl"
   ]
  },
  {
   "cell_type": "markdown",
   "metadata": {},
   "source": [
    "#### Problem : you are given three numbers a,b,c.write a program to find the largest number which is less than or equal to c and leaves remainder b when divided by a, "
   ]
  },
  {
   "cell_type": "code",
   "execution_count": 45,
   "metadata": {},
   "outputs": [
    {
     "name": "stdout",
     "output_type": "stream",
     "text": [
      "35\n"
     ]
    }
   ],
   "source": [
    "# Python program to find \n",
    "# the largest numbers that \n",
    "# leads to same remainder \n",
    "# when divides given \n",
    "# three sorted numbers \n",
    "#__gcd function\n",
    "\n",
    "def gcd(a,b): \n",
    "  \n",
    "    if (a == 0): \n",
    "        return b \n",
    "    return gcd(b % a, a) \n",
    "    \n",
    "def sameRemainder(a,b,c): \n",
    "\n",
    "    a1 = (b - a) \n",
    "    b1 = (c - b) \n",
    "    c1 = (c - a) \n",
    "\n",
    "    return gcd(a1, gcd(b1, c1)) \n",
    "    \n",
    "a = 62\n",
    "b = 132\n",
    "c = 237\n",
    "print(sameRemainder(a, b, c)) \n",
    "  "
   ]
  },
  {
   "cell_type": "code",
   "execution_count": 46,
   "metadata": {},
   "outputs": [
    {
     "data": {
      "text/plain": [
       "0"
      ]
     },
     "execution_count": 46,
     "metadata": {},
     "output_type": "execute_result"
    }
   ],
   "source": [
    "-1 % 1"
   ]
  },
  {
   "cell_type": "code",
   "execution_count": 51,
   "metadata": {},
   "outputs": [
    {
     "data": {
      "text/plain": [
       "-1"
      ]
     },
     "execution_count": 51,
     "metadata": {},
     "output_type": "execute_result"
    }
   ],
   "source": [
    "def cal(p,q,r):\n",
    "     for i in range(r,p-1,-1):\n",
    "        if i % p == q:\n",
    "             return i\n",
    "        return -1\n",
    "cal(1,2,4)"
   ]
  },
  {
   "cell_type": "code",
   "execution_count": 63,
   "metadata": {},
   "outputs": [
    {
     "data": {
      "text/plain": [
       "8"
      ]
     },
     "execution_count": 63,
     "metadata": {},
     "output_type": "execute_result"
    }
   ],
   "source": [
    "def cal(p,q,r):\n",
    "    for i in range(r,p-1,-1):\n",
    "        if i % p == q:\n",
    "             return i\n",
    "    return -1\n",
    "cal(3,2,9)"
   ]
  },
  {
   "cell_type": "code",
   "execution_count": 68,
   "metadata": {},
   "outputs": [
    {
     "name": "stdout",
     "output_type": "stream",
     "text": [
      " 1 10 1\n",
      "10\n"
     ]
    }
   ],
   "source": [
    "# count divisors\n",
    "def countDivisibles(A, B, M): \n",
    "    counter = 0; \n",
    "    for i in range(A, B+1): \n",
    "        if (i % M == 0): \n",
    "            counter = counter + 1\n",
    "    return counter \n",
    "s = input()\n",
    "s = s.split()\n",
    "A = int(s[0])\n",
    "B = int(s[1])\n",
    "M = int(s[2])\n",
    "countDivisibles(A,B,M)\n",
    "print(countDivisibles(A, B, M))"
   ]
  },
  {
   "cell_type": "code",
   "execution_count": 90,
   "metadata": {},
   "outputs": [
    {
     "name": "stdout",
     "output_type": "stream",
     "text": [
      "6\n",
      "720\n"
     ]
    }
   ],
   "source": [
    "# factorial of given number\n",
    "def factorial(n): \n",
    "    count=1\n",
    "    for i in range(1,n+1):\n",
    "        count *=i\n",
    "    return count\n",
    "n=int(input())\n",
    "print(factorial(n)) "
   ]
  },
  {
   "cell_type": "code",
   "execution_count": 71,
   "metadata": {},
   "outputs": [
    {
     "name": "stdout",
     "output_type": "stream",
     "text": [
      "Please Enter your Own String : GopaL\n",
      "\n",
      "Original String                      =   GopaL\n",
      "The Given String After Toggling Case =   gOPAl\n"
     ]
    }
   ],
   "source": [
    "# toogle string\n",
    "\n",
    "string = input(\"Please Enter your Own String : \")\n",
    "\n",
    "string1 = ''\n",
    "\n",
    "for i in range(len(string)):\n",
    "    if(string[i] >= 'a' and string[i] <= 'z'): \n",
    "        string1 = string1 + chr((ord(string[i]) - 32)) \n",
    "    elif(string[i] >= 'A' and string[i] <= 'Z'):\n",
    "        string1 = string1 + chr((ord(string[i]) + 32))\n",
    "    else:\n",
    "        string1 = string1 + string[i]\n",
    " \n",
    "print(\"\\nOriginal String                      =  \", string)\n",
    "print(\"The Given String After Toggling Case =  \", string1)\n"
   ]
  },
  {
   "cell_type": "code",
   "execution_count": 72,
   "metadata": {},
   "outputs": [
    {
     "name": "stdout",
     "output_type": "stream",
     "text": [
      "Please Enter your Own String : gopal\n",
      "\n",
      "Original String                      =   gopal\n",
      "The Given String After Toggling Case =   GOPAL\n"
     ]
    }
   ],
   "source": [
    "string = input(\"Please Enter your Own String : \")\n",
    "\n",
    "string1 = string.swapcase()\n",
    " \n",
    "print(\"\\nOriginal String                      =  \", string)\n",
    "print(\"The Given String After Toggling Case =  \", string1)"
   ]
  },
  {
   "cell_type": "code",
   "execution_count": 74,
   "metadata": {},
   "outputs": [
    {
     "name": "stdout",
     "output_type": "stream",
     "text": [
      "manI\n",
      "MANi\n"
     ]
    }
   ],
   "source": [
    "# write a program given string toogle string or not\n",
    "def string(s):\n",
    "    s = s.swapcase()\n",
    "    return s\n",
    "s = input()\n",
    "print(string(s))"
   ]
  },
  {
   "cell_type": "code",
   "execution_count": 126,
   "metadata": {},
   "outputs": [
    {
     "name": "stdout",
     "output_type": "stream",
     "text": [
      "mani\n",
      "no\n"
     ]
    }
   ],
   "source": [
    "# given string is palindrome or not\n",
    "def pal(a):\n",
    "    if a == a[::-1]:\n",
    "       print(\"yes\")\n",
    "    else:\n",
    "       print(\"no\")\n",
    "n = input()\n",
    "pal(n)\n",
    "    "
   ]
  },
  {
   "cell_type": "code",
   "execution_count": 89,
   "metadata": {},
   "outputs": [
    {
     "name": "stdout",
     "output_type": "stream",
     "text": [
      "mani\n",
      "I"
     ]
    }
   ],
   "source": [
    "def a(n):\n",
    "    for i in n:\n",
    "        if i==i.upper():\n",
    "            a=i.lower()\n",
    "        elif i==i.lower():\n",
    "            a=i.upper()\n",
    "    print(a,end=\"\")\n",
    "\n",
    "n=input()\n",
    "a(n)  "
   ]
  },
  {
   "cell_type": "code",
   "execution_count": 138,
   "metadata": {},
   "outputs": [
    {
     "name": "stdout",
     "output_type": "stream",
     "text": [
      "9\n",
      "2 3 5 7 "
     ]
    }
   ],
   "source": [
    "def checkprime(n):\n",
    "    l=int(input())\n",
    "    for i in range(1,n+1):\n",
    "        c=0\n",
    "        for j in range(1,i+1):\n",
    "            if i%j==0:\n",
    "                c=c+1\n",
    "        if(c==2):\n",
    "            print(i,end=\" \")\n",
    "checkprime(l)\n"
   ]
  },
  {
   "cell_type": "code",
   "execution_count": 124,
   "metadata": {},
   "outputs": [
    {
     "name": "stdout",
     "output_type": "stream",
     "text": [
      "4\n"
     ]
    }
   ],
   "source": [
    "# Char sum In Python Programming  \n",
    "def Charsum(str, s, n):  \n",
    "    score = 0\n",
    "    index = 0\n",
    "    for i in range(n):  \n",
    "        if (str[i] == s): \n",
    "            for j in range(len(s)): \n",
    "                score += (ord(s[j])-ord('a') + 1) \n",
    "            index = i + 1\n",
    "            break\n",
    "    score = score * index \n",
    "    return score  \n",
    "str = [\"aba\" ]  \n",
    "s = \"aba\"\n",
    "n = len(str) \n",
    "score = Charsum(str, s, n)\n",
    "print(score) "
   ]
  }
 ],
 "metadata": {
  "kernelspec": {
   "display_name": "Python 3",
   "language": "python",
   "name": "python3"
  },
  "language_info": {
   "codemirror_mode": {
    "name": "ipython",
    "version": 3
   },
   "file_extension": ".py",
   "mimetype": "text/x-python",
   "name": "python",
   "nbconvert_exporter": "python",
   "pygments_lexer": "ipython3",
   "version": "3.7.3"
  }
 },
 "nbformat": 4,
 "nbformat_minor": 2
}
