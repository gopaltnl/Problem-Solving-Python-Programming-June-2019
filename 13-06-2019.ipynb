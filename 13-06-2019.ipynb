{
 "cells": [
  {
   "cell_type": "code",
   "execution_count": 8,
   "metadata": {},
   "outputs": [
    {
     "name": "stdout",
     "output_type": "stream",
     "text": [
      "10 * 100 = 1000\n",
      "10 * 100 = 1000\n",
      "10 * 100 = 1000\n",
      "10 * 100 = 1000\n",
      "10 * 100 = 1000\n",
      "10 * 100 = 1000\n",
      "10 * 100 = 1000\n",
      "10 * 100 = 1000\n",
      "10 * 100 = 1000\n",
      "10 * 100 = 1000\n",
      "10 * 100 = 1000\n"
     ]
    }
   ],
   "source": [
    "# Function to generate Multiplication table for a number \n",
    "\n",
    "def printTable(n,s,e):\n",
    "    for start in range(s,e+1):\n",
    "        print(n,\"*\",s,\"=\",n*s)\n",
    "    return\n",
    "printTable(10,100,110)"
   ]
  },
  {
   "cell_type": "code",
   "execution_count": 2,
   "metadata": {},
   "outputs": [
    {
     "data": {
      "text/plain": [
       "3"
      ]
     },
     "execution_count": 2,
     "metadata": {},
     "output_type": "execute_result"
    }
   ],
   "source": [
    "# Functions to calculate average of all factorials in a given range\n",
    "\n",
    "def calulateNfactorials(start,end):\n",
    "    sum = 0\n",
    "    counter =0\n",
    "    for start in range(start,end+1):\n",
    "        sum+=fact(start)\n",
    "        counter+=1\n",
    "    return sum//counter\n",
    "def fact(number):\n",
    "    res = 1\n",
    "    for i in range(1,number+1):\n",
    "        res = res*i\n",
    "    return res\n",
    "calulateNfactorials(1,3)"
   ]
  },
  {
   "cell_type": "code",
   "execution_count": 3,
   "metadata": {},
   "outputs": [
    {
     "name": "stdout",
     "output_type": "stream",
     "text": [
      "1 2 3 4 5 6 7 8 9 153 370 371 407 1634 8208 9474 54748 92727 93084 "
     ]
    }
   ],
   "source": [
    "\n",
    "def arms(l,u):\n",
    "    for k in range(l,u+1):\n",
    "        count=0\n",
    "        n=k\n",
    "        t=n\n",
    "        s=t\n",
    "        sum=0\n",
    "        while(n>0):\n",
    "            n=n//10\n",
    "            count+=1\n",
    "        while(t>0):\n",
    "            a=(t%10)**count\n",
    "            sum=sum+a\n",
    "            t=t//10\n",
    "        if(s==sum):\n",
    "                print(s,end=\" \")\n",
    "        \n",
    "arms(1,100000)"
   ]
  },
  {
   "cell_type": "code",
   "execution_count": 4,
   "metadata": {},
   "outputs": [
    {
     "name": "stdout",
     "output_type": "stream",
     "text": [
      "1\n",
      "3\n",
      "5\n",
      "7\n",
      "9\n",
      "89\n"
     ]
    }
   ],
   "source": [
    "# Function to generate N odd armstrong numbers\n",
    "\n",
    "def generateNumbers(n):\n",
    "    for i in range(1,n+1):\n",
    "        checkAms(i)\n",
    "    return\n",
    "def checkAms(number):\n",
    "    sum=0\n",
    "    temp = number\n",
    "    while(number>0):\n",
    "            a=(number%10)**len(str(number))\n",
    "            sum=sum+a\n",
    "            number = number//10\n",
    "    if(temp == sum and temp%2!=0):\n",
    "        print(sum)\n",
    "    return\n",
    "generateNumbers(100)"
   ]
  },
  {
   "cell_type": "code",
   "execution_count": null,
   "metadata": {},
   "outputs": [],
   "source": []
  }
 ],
 "metadata": {
  "kernelspec": {
   "display_name": "Python 3",
   "language": "python",
   "name": "python3"
  },
  "language_info": {
   "codemirror_mode": {
    "name": "ipython",
    "version": 3
   },
   "file_extension": ".py",
   "mimetype": "text/x-python",
   "name": "python",
   "nbconvert_exporter": "python",
   "pygments_lexer": "ipython3",
   "version": "3.7.3"
  }
 },
 "nbformat": 4,
 "nbformat_minor": 2
}
