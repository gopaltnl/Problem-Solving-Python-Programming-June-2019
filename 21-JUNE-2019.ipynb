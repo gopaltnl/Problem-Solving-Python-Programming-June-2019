{
 "cells": [
  {
   "cell_type": "code",
   "execution_count": 2,
   "metadata": {},
   "outputs": [
    {
     "data": {
      "text/plain": [
       "False"
      ]
     },
     "execution_count": 2,
     "metadata": {},
     "output_type": "execute_result"
    }
   ],
   "source": [
    "\n",
    "import re\n",
    "def phvalidator(number):\n",
    "    pattern = '^[6-9][0-9]{9}$|[0][6-9][0-9]{9}$^[+][9][1][6-9][0-9]{9}$'\n",
    "    if re.match(pattern,str(number)):\n",
    "        return True\n",
    "    else:\n",
    "        return False\n",
    "    return\n",
    "\n",
    "phvalidator(78935353018)\n",
    "    "
   ]
  },
  {
   "cell_type": "code",
   "execution_count": 3,
   "metadata": {},
   "outputs": [
    {
     "data": {
      "text/plain": [
       "True"
      ]
     },
     "execution_count": 3,
     "metadata": {},
     "output_type": "execute_result"
    }
   ],
   "source": [
    "def emailval(email):\n",
    "    pattern='^[0-9a-z][0-9a-z_.]{4,13}[0-9a-z][@][a-z0-9]{3,18}[.][a-z]{2,4}$'\n",
    "    if re.match(pattern,email):\n",
    "        return True\n",
    "    return False\n",
    "emailval(\"gopal3018@gmail.com\")"
   ]
  },
  {
   "cell_type": "code",
   "execution_count": 14,
   "metadata": {},
   "outputs": [
    {
     "name": "stdout",
     "output_type": "stream",
     "text": [
      "manikanthagopal added to contacts\n"
     ]
    }
   ],
   "source": [
    "\n",
    "from packages import validators\n",
    "\n",
    "def addcontact(name,phone,email):\n",
    "    \n",
    "    filename = 'datafiles/contacts.txt'\n",
    "    with open(filename,'a') as f:\n",
    "        line = name + ',' + str(phone) + ',' + email + '\\n'\n",
    "        f.write(line)\n",
    "        \n",
    "    print(name,'added to contacts')\n",
    "    return\n",
    "addcontact('manikanthagopal',9493872308,'hddh@gmail.com')\n",
    "\n",
    "        \n",
    "    "
   ]
  },
  {
   "cell_type": "code",
   "execution_count": 15,
   "metadata": {},
   "outputs": [
    {
     "data": {
      "text/plain": [
       "[['manikanthagopal', '9493872308', 'hddh@gmail.com\\n']]"
      ]
     },
     "execution_count": 15,
     "metadata": {},
     "output_type": "execute_result"
    }
   ],
   "source": [
    "# files to list\n",
    "\n",
    "def contacts2List(name):\n",
    "    ls = []\n",
    "    with open(name,'r') as f:\n",
    "        for line in f:\n",
    "            ls.append(line.split(','))\n",
    "    return ls\n",
    "ls = contacts2List('datafiles/contacts.txt')\n",
    "ls"
   ]
  },
  {
   "cell_type": "code",
   "execution_count": 16,
   "metadata": {},
   "outputs": [
    {
     "data": {
      "text/plain": [
       "'manikanthagopal,9493872308,hddh@gmail.com\\n,'"
      ]
     },
     "execution_count": 16,
     "metadata": {},
     "output_type": "execute_result"
    }
   ],
   "source": [
    "\n",
    "def list2Contacts(ls):\n",
    "    s = ''\n",
    "    for i in range(0,len(ls)):\n",
    "        lls = ls[i]\n",
    "        for j in range(0,len(lls)):\n",
    "            s+=str(lls[j])+','\n",
    "    return s\n",
    "list2Contacts(ls)"
   ]
  },
  {
   "cell_type": "code",
   "execution_count": 6,
   "metadata": {},
   "outputs": [],
   "source": [
    "def save2File(s):\n",
    "    with open(\"datafiles/contacts.txt\",'w') as f:\n",
    "        f.write(s)\n",
    "        print(\"Data updated...\")"
   ]
  },
  {
   "cell_type": "code",
   "execution_count": 7,
   "metadata": {},
   "outputs": [],
   "source": [
    "# Edit the Contacts in a file\n",
    "\n",
    "def editContact(name,number,email):\n",
    "    ls = contacts2List('datafiles/contacts.txt')\n",
    "    for i in range(0,len(ls)):\n",
    "        lss = ls[i]\n",
    "        for j in range(0,len(lss)):\n",
    "            if(name == lss[j]):\n",
    "                lss[0] = name\n",
    "                lss[1] = number\n",
    "                lss[2] = email\n",
    "                print(name,\" Updated..\")    \n",
    "            else:\n",
    "                print(\"not updated\")\n",
    "    s=list2Contacts(ls)\n",
    "    save2File(s)\n",
    "    return s"
   ]
  },
  {
   "cell_type": "code",
   "execution_count": 17,
   "metadata": {},
   "outputs": [
    {
     "name": "stdout",
     "output_type": "stream",
     "text": [
      "manikanthagopal  Updated..\n",
      "not updated\n",
      "not updated\n",
      "Data updated...\n"
     ]
    },
    {
     "data": {
      "text/plain": [
       "'manikanthagopal,958959599559,1venkat@gmail.com,'"
      ]
     },
     "execution_count": 17,
     "metadata": {},
     "output_type": "execute_result"
    }
   ],
   "source": [
    "temp = editContact('manikanthagopal',958959599559,'1venkat@gmail.com')\n",
    "temp"
   ]
  },
  {
   "cell_type": "code",
   "execution_count": 51,
   "metadata": {},
   "outputs": [
    {
     "data": {
      "text/plain": [
       "[['gopal', '4567896789', 'hddh@gmail.com\\n'],\n",
       " ['\\n'],\n",
       " ['mani', '4567896789', 'hddh@gmail.com\\n'],\n",
       " ['mani', '4567896789', 'hddh@gmail.com\\n'],\n",
       " ['gopal', '4567896789', 'hddh@gmail.com\\n']]"
      ]
     },
     "execution_count": 51,
     "metadata": {},
     "output_type": "execute_result"
    }
   ],
   "source": [
    "filename = 'datafiles/contacts.txt'\n",
    "def csvlist(filename):\n",
    "    li = []\n",
    "    with open(filename,'r') as f:\n",
    "        for line in f:\n",
    "            li.append(line.split(','))\n",
    "    return li\n",
    "csvlist(filename)\n",
    "    "
   ]
  },
  {
   "cell_type": "code",
   "execution_count": 38,
   "metadata": {},
   "outputs": [
    {
     "data": {
      "text/plain": [
       "'gopal,4567896789,hddh@gmail.com\\n\\nmani,4567896789,hddh@gmail.com\\n'"
      ]
     },
     "execution_count": 38,
     "metadata": {},
     "output_type": "execute_result"
    }
   ],
   "source": [
    "filename = 'datafiles/contacts.txt'\n",
    "def csvToList(filename):\n",
    "    li = []\n",
    "    with open(filename, 'r') as f:\n",
    "        for line in f:\n",
    "            li.append(line.split(','))\n",
    "    return li\n",
    "\n",
    "def listToFile(li):\n",
    "    s = ''\n",
    "    for i in li:\n",
    "        s += ','.join(i)\n",
    "    return s\n",
    "    \n",
    "li = csvToList(filename)\n",
    "listToFile(li)"
   ]
  },
  {
   "cell_type": "code",
   "execution_count": 10,
   "metadata": {},
   "outputs": [],
   "source": [
    "#Delete the contact\n",
    "def deleteContact(name):\n",
    "    ls = contacts2List('datafiles/contacts.txt')\n",
    "    for i in range(0,len(ls)):\n",
    "        lss = ls[i]\n",
    "        for j in range(0,len(lss)):\n",
    "            if(name == lss[j]):\n",
    "                ls.pop(i)\n",
    "                print(name,\" Deleted..\")    \n",
    "            else:\n",
    "                print(\"not Deleted\")\n",
    "    s=list2Contacts(ls)\n",
    "    save2File(s)\n",
    "    return s"
   ]
  },
  {
   "cell_type": "code",
   "execution_count": 18,
   "metadata": {},
   "outputs": [
    {
     "name": "stdout",
     "output_type": "stream",
     "text": [
      "manikanthagopal  Deleted..\n",
      "not Deleted\n",
      "not Deleted\n",
      "not Deleted\n",
      "Data updated...\n"
     ]
    },
    {
     "data": {
      "text/plain": [
       "''"
      ]
     },
     "execution_count": 18,
     "metadata": {},
     "output_type": "execute_result"
    }
   ],
   "source": [
    "deleteContact('manikanthagopal')"
   ]
  },
  {
   "cell_type": "code",
   "execution_count": null,
   "metadata": {},
   "outputs": [],
   "source": []
  }
 ],
 "metadata": {
  "kernelspec": {
   "display_name": "Python 3",
   "language": "python",
   "name": "python3"
  },
  "language_info": {
   "codemirror_mode": {
    "name": "ipython",
    "version": 3
   },
   "file_extension": ".py",
   "mimetype": "text/x-python",
   "name": "python",
   "nbconvert_exporter": "python",
   "pygments_lexer": "ipython3",
   "version": "3.7.3"
  }
 },
 "nbformat": 4,
 "nbformat_minor": 2
}
