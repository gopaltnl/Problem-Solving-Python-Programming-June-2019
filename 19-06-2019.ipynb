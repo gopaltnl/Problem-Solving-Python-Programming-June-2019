{
 "cells": [
  {
   "cell_type": "code",
   "execution_count": 2,
   "metadata": {},
   "outputs": [
    {
     "name": "stdout",
     "output_type": "stream",
     "text": [
      "9\n",
      "2 3 5 7 "
     ]
    }
   ],
   "source": [
    "# prime number\n",
    "def checkprime():\n",
    "    l=int(input())\n",
    "    for i in range(1,l+1):\n",
    "        c=0\n",
    "        for j in range(1,i+1):\n",
    "            if i%j==0:\n",
    "                c=c+1\n",
    "        if(c==2):\n",
    "            print(i,end=\" \")\n",
    "checkprime()"
   ]
  },
  {
   "cell_type": "code",
   "execution_count": 3,
   "metadata": {},
   "outputs": [
    {
     "name": "stdout",
     "output_type": "stream",
     "text": [
      "aba\n",
      "YES\n"
     ]
    }
   ],
   "source": [
    "# palindrome\n",
    "n = input()\n",
    "def pal(n):\n",
    "    if n == n[::-1]:\n",
    "       print(\"YES\")\n",
    "    else:\n",
    "       print(\"NO\")\n",
    "    return     \n",
    "\n",
    "pal(n)\n",
    "      "
   ]
  },
  {
   "cell_type": "code",
   "execution_count": 4,
   "metadata": {},
   "outputs": [
    {
     "name": "stdout",
     "output_type": "stream",
     "text": [
      "5\n",
      "1 2 3 4 5\n",
      "120\n"
     ]
    }
   ],
   "source": [
    "# find product\n",
    "n = int(input())\n",
    "ls = input()\n",
    "ls = ls.split()\n",
    "res = 1\n",
    "for i in range(0,len(ls)):\n",
    "    res = res* int(ls[i]) % ((10 ** 9) +7)\n",
    "print(res)"
   ]
  },
  {
   "cell_type": "code",
   "execution_count": 5,
   "metadata": {},
   "outputs": [
    {
     "name": "stdout",
     "output_type": "stream",
     "text": [
      " 1 10 1\n",
      "10\n"
     ]
    }
   ],
   "source": [
    "# count divisors\n",
    "\n",
    "def countDivisibles(A, B, M): \n",
    "    counter = 0\n",
    "    for i in range(A, B+1): \n",
    "        if (i % M == 0): \n",
    "            counter = counter + 1\n",
    "    return counter \n",
    "s = input()\n",
    "s = s.split()\n",
    "A = int(s[0])\n",
    "B = int(s[1])\n",
    "M = int(s[2])\n",
    "countDivisibles(A,B,M)\n",
    "print(countDivisibles(A, B, M))"
   ]
  },
  {
   "cell_type": "code",
   "execution_count": 6,
   "metadata": {},
   "outputs": [
    {
     "name": "stdout",
     "output_type": "stream",
     "text": [
      "2\n",
      "2\n"
     ]
    }
   ],
   "source": [
    "# factorial of given no\n",
    "\n",
    "def factorial(n): \n",
    "    count=1\n",
    "    for i in range(1,n+1):\n",
    "        count *=i\n",
    "    return count\n",
    "n=int(input())\n",
    "print(factorial(n)) "
   ]
  },
  {
   "cell_type": "code",
   "execution_count": 7,
   "metadata": {},
   "outputs": [
    {
     "name": "stdout",
     "output_type": "stream",
     "text": [
      "GopaL\n",
      "gOPAl\n"
     ]
    }
   ],
   "source": [
    "# toogle string\n",
    "def string(s):\n",
    "    s = s.swapcase()\n",
    "    return s\n",
    "s = input()\n",
    "print(string(s))"
   ]
  },
  {
   "cell_type": "code",
   "execution_count": null,
   "metadata": {},
   "outputs": [
    {
     "name": "stdout",
     "output_type": "stream",
     "text": [
      "2\n",
      "sumit mistu\n",
      "YES\n"
     ]
    }
   ],
   "source": [
    "# two strings\n",
    "n=int(input())\n",
    "def twostr(a,b):\n",
    "    if len(a)!=len(b):\n",
    "        return \"NO\"\n",
    "    elif sorted(a)==sorted(b):\n",
    "        return \"YES\"\n",
    "    else:\n",
    "        return \"NO\"\n",
    "for i in range(n):\n",
    "    str=input().split()\n",
    "    a=str[0]\n",
    "    b=str[1]\n",
    "    print(twostr(a,b))\n"
   ]
  },
  {
   "cell_type": "code",
   "execution_count": 4,
   "metadata": {},
   "outputs": [
    {
     "name": "stdout",
     "output_type": "stream",
     "text": [
      "2\n",
      "1 44 2 14\n",
      "0 30\n",
      "2 42 8 23\n",
      "5 41\n"
     ]
    }
   ],
   "source": [
    "# duration\n",
    "\n",
    "def mindef(s):\n",
    "    s =s.split()\n",
    "    sh = int(s[0])\n",
    "    sm = int(s[1])\n",
    "    eh = int(s[2])\n",
    "    em = int(s[3])\n",
    "    startmin =(sh * 60)+sm\n",
    "    endmin = (eh * 60) + em\n",
    "    return endmin-startmin\n",
    "def output(min):\n",
    "# convert min to HH MM\n",
    "    hh = min // 60\n",
    "    mm = min % 60\n",
    "    print(hh,mm)\n",
    "    return\n",
    "n = int(input())\n",
    "\n",
    "for i in range(0,n):\n",
    "    s = input()\n",
    "    min = mindef(s)\n",
    "    output(min)"
   ]
  },
  {
   "cell_type": "code",
   "execution_count": 2,
   "metadata": {},
   "outputs": [
    {
     "name": "stdout",
     "output_type": "stream",
     "text": [
      "aba\n",
      "4\n"
     ]
    }
   ],
   "source": [
    "# char sum\n",
    "def csum(g):\n",
    "    s=0\n",
    "    for i in g:\n",
    "        s+=ord(i)-96\n",
    "    print(s)\n",
    "csum(input())\n"
   ]
  },
  {
   "cell_type": "code",
   "execution_count": 1,
   "metadata": {},
   "outputs": [
    {
     "name": "stdout",
     "output_type": "stream",
     "text": [
      "gopal\n"
     ]
    }
   ],
   "source": [
    "print(\"gopal\")"
   ]
  },
  {
   "cell_type": "code",
   "execution_count": 5,
   "metadata": {},
   "outputs": [
    {
     "name": "stdout",
     "output_type": "stream",
     "text": [
      "5 3\n",
      "1 2 3 4 5\n",
      "1 3\n",
      "2\n",
      "2 4\n",
      "3\n",
      "2 5\n",
      "3\n"
     ]
    }
   ],
   "source": [
    "# play with numbers\n",
    "n=input().split()\n",
    "n[0],n[1]=int(n[0]),int(n[1])\n",
    "a=input().split()\n",
    "sum=[]\n",
    "for i in range(0,n[0]):\n",
    "    if i==0:\n",
    "        sum.append(int(a[i]))    \n",
    "    else:\n",
    "        sum.append(int(sum[i-1])+int(a[i]))\n",
    "del a\n",
    "#read query\n",
    "for k in range(0,n[1]):\n",
    "    quer=input().split()\n",
    "    i=int(quer[0])\n",
    "    j=int(quer[1])\n",
    "    if i>1:\n",
    "        print((sum[j-1]-sum[i-2])//(j-i+1))\n",
    "    else:\n",
    "        print(sum[j-1]//j-i+1)"
   ]
  },
  {
   "cell_type": "code",
   "execution_count": null,
   "metadata": {},
   "outputs": [],
   "source": []
  }
 ],
 "metadata": {
  "kernelspec": {
   "display_name": "Python 3",
   "language": "python",
   "name": "python3"
  },
  "language_info": {
   "codemirror_mode": {
    "name": "ipython",
    "version": 3
   },
   "file_extension": ".py",
   "mimetype": "text/x-python",
   "name": "python",
   "nbconvert_exporter": "python",
   "pygments_lexer": "ipython3",
   "version": "3.7.3"
  }
 },
 "nbformat": 4,
 "nbformat_minor": 2
}
