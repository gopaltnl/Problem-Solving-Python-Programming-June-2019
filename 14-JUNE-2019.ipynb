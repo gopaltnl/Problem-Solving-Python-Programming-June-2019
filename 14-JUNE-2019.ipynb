{
 "cells": [
  {
   "cell_type": "markdown",
   "metadata": {},
   "source": [
    "###   Problem Solving And Programming in Python-Day4\n",
    "\n",
    "### Date-14-june-2019\n",
    "\n",
    " ## Day Objectives\n",
    " \n",
    "## Python Data Structures\n",
    "\n",
    "  ## 1.Lists\n",
    "  \n",
    "  ## 2.Tuples\n",
    "  \n",
    "  ## 3.Dictionaries\n",
    "  \n",
    "  ## Basic Problem set on data structures\n",
    "  \n",
    "  ## Advanced problem set\n",
    "  \n",
    "## packages and modules in python"
   ]
  },
  {
   "cell_type": "markdown",
   "metadata": {},
   "source": [
    "## Python Data Structures\n",
    " "
   ]
  },
  {
   "cell_type": "markdown",
   "metadata": {},
   "source": [
    " ## 1.Lists\n"
   ]
  },
  {
   "cell_type": "code",
   "execution_count": 39,
   "metadata": {},
   "outputs": [
    {
     "data": {
      "text/plain": [
       "456.0"
      ]
     },
     "execution_count": 39,
     "metadata": {},
     "output_type": "execute_result"
    }
   ],
   "source": [
    "li = [123,978,654]\n",
    "\n",
    "li # access the entire list\n",
    "\n",
    "li[1] # access an element which index in a list\n",
    "\n",
    "li[1:] # access all elements from second value\n",
    "\n",
    "li[1:]\n",
    "\n",
    "li = li[::-1]\n",
    "\n",
    "li\n",
    "\n",
    "li = li[::-1] #reversing list elements in proper order\n",
    "\n",
    "li\n",
    "\n",
    "li[::2] # access in even index elements\n",
    "\n",
    "li[1::2]\n",
    "\n",
    "# lists can be accessed,manipulated in two different ways\n",
    "\n",
    "  # Direct referencing-[indexes]\n",
    "  # Indirect Referencing-[through functions]\n",
    "\n",
    "li.append(345) # adding an element to end of the list\n",
    "\n",
    "li\n",
    "\n",
    "li.insert(1,234) # adding an element at a particular index\n",
    "\n",
    "li.sort() # sort elements in ascending order\n",
    "\n",
    "li\n",
    "\n",
    "li.pop() # remove the last element in a list\n",
    "\n",
    "li\n",
    "\n",
    "li.pop(1)# remove an element at a particular element\n",
    "\n",
    "li\n",
    "\n",
    "li2 = [234,456,789]\n",
    "\n",
    "li.extend(li2) # merge list 2 into list 1\n",
    "\n",
    "sum(li) # sum all elements in a list\n",
    "max(li) # maximum element in alist\n",
    "min(li) # minimum element in a list\n",
    "len(li) # number of elements in a list\n",
    "\n",
    "sum(li)/len(li) # Average of list elements\n",
    "\n",
    "# average of all alternative elements at even positions\n",
    "\n",
    "sum(li[::2])/len(li[::2])\n",
    "\n",
    "# average of all alternative elements at odd positions\n",
    "\n",
    "sum(li[1::2])/len(li[1::2])\n",
    "\n"
   ]
  },
  {
   "cell_type": "markdown",
   "metadata": {},
   "source": [
    "Task1"
   ]
  },
  {
   "cell_type": "code",
   "execution_count": 62,
   "metadata": {},
   "outputs": [
    {
     "name": "stdout",
     "output_type": "stream",
     "text": [
      "[123, 234, 345, 456, 654, 789]\n",
      "654\n",
      "[123, 234, 345, 456, 654, 789]\n",
      "456\n",
      "[123, 234, 345, 456, 654, 789]\n",
      "789\n",
      "-1\n"
     ]
    }
   ],
   "source": [
    "# function to identify the second largest element in list\n",
    "\n",
    "def secondlarge(n):\n",
    "    n.sort()\n",
    "    return n[len(n)-2]\n",
    "print(li)\n",
    "print(secondlarge(li))\n",
    "\n",
    "# function to identify the third largest element in list\n",
    "def thirdlarge(n):\n",
    "    n.sort()\n",
    "    return n[len(n)-3]\n",
    "print(li)\n",
    "print(thirdlarge(li))\n",
    "\n",
    "    \n",
    "# function that returns th nth largest\n",
    "def nth(n):\n",
    "    n.sort()\n",
    "    return n[len(n)-1]\n",
    "print(li)\n",
    "print(nth(li))\n",
    "\n",
    "\n",
    "## def nlarget()\n",
    "    \n",
    "# def genericlargest(li,10)\n",
    "# sort the data and select the second largest element\n",
    "# sort the data in reverse order and select the second element\n",
    "# remove the max element and then get the max of the\n",
    "\n",
    "min(li)\n",
    "li\n",
    "max(li)-1\n",
    "try:\n",
    "    li.index(10000)\n",
    "except:\n",
    "      print(-1)\n"
   ]
  },
  {
   "cell_type": "code",
   "execution_count": 55,
   "metadata": {},
   "outputs": [
    {
     "data": {
      "text/plain": [
       "654"
      ]
     },
     "execution_count": 55,
     "metadata": {},
     "output_type": "execute_result"
    }
   ],
   "source": [
    "# function to identify the second largest element in list\n",
    "def secondlar(li):\n",
    "    li.sort()\n",
    "    return li[-2]\n",
    "secondlar(li)"
   ]
  },
  {
   "cell_type": "code",
   "execution_count": 58,
   "metadata": {},
   "outputs": [
    {
     "data": {
      "text/plain": [
       "[123, 234, 345, 456, 654, 789]"
      ]
     },
     "execution_count": 58,
     "metadata": {},
     "output_type": "execute_result"
    }
   ],
   "source": [
    "# function to identify the nth largest element in list\n",
    "\n",
    "def nth(li,n):\n",
    "    li.sort()\n",
    "    return li[-n]\n",
    "nth(li,5)\n",
    "li"
   ]
  },
  {
   "cell_type": "code",
   "execution_count": 73,
   "metadata": {},
   "outputs": [
    {
     "data": {
      "text/plain": [
       "5"
      ]
     },
     "execution_count": 73,
     "metadata": {},
     "output_type": "execute_result"
    }
   ],
   "source": [
    "# Function to search for dqta in a list\n",
    "# search for the key in the list and return the index of the key return -1 if key not found\n",
    "\n",
    "#model1\n",
    "\n",
    "def linearsearch(li,key):\n",
    "    for index in range(0,len(li)):\n",
    "        if li[index] == key:\n",
    "            return index\n",
    "    return -1\n",
    "\n",
    "#model 2\n",
    "def search2(li,key):\n",
    "    for element in li:\n",
    "        if element == key:\n",
    "            return li.index(element)\n",
    "    return -1\n",
    "\n",
    "search2(li,234)\n",
    "\n",
    "#model3\n",
    "\n",
    "def search3(li,key):\n",
    "    if key in li:\n",
    "        return li.index(key)\n",
    "    return -1\n",
    "search3(li,789)"
   ]
  },
  {
   "cell_type": "code",
   "execution_count": 82,
   "metadata": {},
   "outputs": [
    {
     "data": {
      "text/plain": [
       "2"
      ]
     },
     "execution_count": 82,
     "metadata": {},
     "output_type": "execute_result"
    }
   ],
   "source": [
    "# function to count the occurances of a of charachter repeating\n",
    "# \"python programming\",m->2\n",
    "\n",
    "def countoccur(s,c):\n",
    "\n",
    "    count = 0\n",
    "    for ch in string:\n",
    "        if ch == c:\n",
    "            count += 1\n",
    "    return count\n",
    "countoccur(\"gopal\",'g')\n",
    "\n",
    "def countoccur2(s,c):\n",
    "    return s.count(c)\n",
    "\n",
    "countoccur2(\"python programming\",'m')\n",
    "    \n",
    "# function to find the number of ccurances  of a string.\n",
    "\n",
    "# \"abcacbc\",\"ab\" ->2\n"
   ]
  },
  {
   "cell_type": "code",
   "execution_count": 83,
   "metadata": {},
   "outputs": [
    {
     "data": {
      "text/plain": [
       "2"
      ]
     },
     "execution_count": 83,
     "metadata": {},
     "output_type": "execute_result"
    }
   ],
   "source": [
    "def countoccur(s,c):\n",
    "\n",
    "    count = 0\n",
    "    for ch in string:\n",
    "        if ch == c:\n",
    "            count += 1\n",
    "    return count\n",
    "countoccur(\"gopal\",'g')"
   ]
  },
  {
   "cell_type": "code",
   "execution_count": null,
   "metadata": {},
   "outputs": [],
   "source": [
    "Practice test on 14th june 2019\n",
    "\n",
    "3 questions\n",
    "\n",
    "  5 \n",
    "  10\n",
    "  15\n",
    "    \n",
    "    Input formate:\n",
    "        \n",
    "        1.first line contains size of the array\n",
    "        2.second line contains array elements\n",
    "        \n",
    "        n = int(input())\n",
    "        s = input()\n",
    "        li = s.split()\n",
    "        \n",
    "        "
   ]
  },
  {
   "cell_type": "code",
   "execution_count": 87,
   "metadata": {},
   "outputs": [
    {
     "data": {
      "text/plain": [
       "['1', '2', '3', '4', '5', '6']"
      ]
     },
     "execution_count": 87,
     "metadata": {},
     "output_type": "execute_result"
    }
   ],
   "source": [
    "s = \"1 2 3 4 5 6 \"\n",
    "\n",
    "li = s.split()\n",
    "\n",
    "numlist = []\n",
    "\n",
    "for i in li:\n",
    "    \n",
    "    numlist.append(int(i))\n",
    "\n",
    "    \n",
    "li\n"
   ]
  },
  {
   "cell_type": "markdown",
   "metadata": {},
   "source": [
    "TASK3:\n",
    "    \n",
    "    "
   ]
  },
  {
   "cell_type": "code",
   "execution_count": 92,
   "metadata": {},
   "outputs": [
    {
     "name": "stdout",
     "output_type": "stream",
     "text": [
      "3\n"
     ]
    },
    {
     "data": {
      "text/plain": [
       "14"
      ]
     },
     "execution_count": 92,
     "metadata": {},
     "output_type": "execute_result"
    }
   ],
   "source": [
    "n = int(input())\n",
    "\n",
    "def sumsquareofn(n):\n",
    "    sum = 0\n",
    "    for i in range(1,n+1):\n",
    "        sum = sum+i ** 2\n",
    "    return sum\n",
    "sumsquareofn(n)\n",
    "        "
   ]
  },
  {
   "cell_type": "code",
   "execution_count": 2,
   "metadata": {},
   "outputs": [
    {
     "name": "stdout",
     "output_type": "stream",
     "text": [
      "1\n",
      "2\n"
     ]
    },
    {
     "data": {
      "text/plain": [
       "4"
      ]
     },
     "execution_count": 2,
     "metadata": {},
     "output_type": "execute_result"
    }
   ],
   "source": [
    "# Identify the second largest element in a list\n",
    "\n",
    "def findLarge(lis,n):\n",
    "    temp = lis\n",
    "    res = 0\n",
    "    for i in range(1,len(temp)+1):\n",
    "        if(i <= n):\n",
    "            print(i)\n",
    "            lis.pop()\n",
    "            res = max(temp)\n",
    "            \n",
    "    return res\n",
    "\n",
    "lis = [3,4,2,6,7]\n",
    "findLarge(lis,2)"
   ]
  },
  {
   "cell_type": "code",
   "execution_count": 3,
   "metadata": {},
   "outputs": [
    {
     "name": "stdout",
     "output_type": "stream",
     "text": [
      "Enter the size of the array:5\n",
      "Enter elements : 3 5 7 8 9\n"
     ]
    },
    {
     "data": {
      "text/plain": [
       "[3, 5, 7, 8, 9]"
      ]
     },
     "execution_count": 3,
     "metadata": {},
     "output_type": "execute_result"
    }
   ],
   "source": [
    "n = int(input(\"Enter the size of the array:\"))\n",
    "s = input(\"Enter elements : \")\n",
    "li = s.split()\n",
    "con_list = []\n",
    "for i in li:\n",
    "    con_list.append(int(i))\n",
    "con_list"
   ]
  },
  {
   "cell_type": "code",
   "execution_count": 4,
   "metadata": {},
   "outputs": [
    {
     "data": {
      "text/plain": [
       "[123, 978, 654]"
      ]
     },
     "execution_count": 4,
     "metadata": {},
     "output_type": "execute_result"
    }
   ],
   "source": [
    "li = [123,978,654]\n",
    "\n",
    "li \n"
   ]
  },
  {
   "cell_type": "code",
   "execution_count": null,
   "metadata": {},
   "outputs": [],
   "source": []
  }
 ],
 "metadata": {
  "kernelspec": {
   "display_name": "Python 3",
   "language": "python",
   "name": "python3"
  },
  "language_info": {
   "codemirror_mode": {
    "name": "ipython",
    "version": 3
   },
   "file_extension": ".py",
   "mimetype": "text/x-python",
   "name": "python",
   "nbconvert_exporter": "python",
   "pygments_lexer": "ipython3",
   "version": "3.7.3"
  }
 },
 "nbformat": 4,
 "nbformat_minor": 2
}
