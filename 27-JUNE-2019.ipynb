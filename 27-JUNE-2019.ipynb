{
 "cells": [
  {
   "cell_type": "code",
   "execution_count": 9,
   "metadata": {},
   "outputs": [
    {
     "name": "stdout",
     "output_type": "stream",
     "text": [
      "1 2\n",
      "1 3\n",
      "1 4\n",
      "2 3\n",
      "2 4\n",
      "3 4\n"
     ]
    }
   ],
   "source": [
    "# FUNCTION TO PRINT ALL COMBINATIONS OF PAIRS OF INTEGERS IN A UNIQUE LIST\n",
    "\n",
    "# [1,2,3] - > (1,2),(1,3),(2,3) -> 3C2 3 VALUES AND 2 COMBINATIONS -> 3!/((3-2)!*2!)\n",
    "\n",
    "# [1,2,3,4] - >(1,2)(1,3)(1,4)(2,3)(2,4)((3,4))\n",
    "\n",
    "# combination of two elements in list\n",
    "\n",
    "def  combinations(li):\n",
    "    \n",
    "    for i in range(len(li)-1):\n",
    "        \n",
    "        for j in range(i+1,len(li)):\n",
    "            print(li[i],li[j])\n",
    "    return\n",
    "li=[1,2,3,4]\n",
    "\n",
    "combinations(li)\n"
   ]
  },
  {
   "cell_type": "code",
   "execution_count": 13,
   "metadata": {},
   "outputs": [
    {
     "name": "stdout",
     "output_type": "stream",
     "text": [
      "1 2 3\n",
      "1 2 4\n",
      "1 2 5\n",
      "1 3 4\n",
      "1 3 5\n",
      "1 4 5\n",
      "2 3 4\n",
      "2 3 5\n",
      "2 4 5\n",
      "3 4 5\n"
     ]
    }
   ],
   "source": [
    "# combination of three elements in list\n",
    "\n",
    "def  combithree(li):\n",
    "    \n",
    "    for i in range(len(li)-1):\n",
    "        \n",
    "        for j in range(i+1,len(li)):\n",
    "            \n",
    "            for k in range(j+1,len(li)):\n",
    "            \n",
    "               print(li[i],li[j],li[k])\n",
    "    return\n",
    "li=[1,2,3,4,5]\n",
    "\n",
    "combithree(li)"
   ]
  },
  {
   "cell_type": "code",
   "execution_count": 12,
   "metadata": {},
   "outputs": [
    {
     "name": "stdout",
     "output_type": "stream",
     "text": [
      "1 2 3\n",
      "1 2 4\n",
      "1 2 5\n",
      "1 3 4\n",
      "1 3 5\n",
      "1 4 5\n",
      "2 3 4\n",
      "2 3 5\n",
      "2 4 5\n",
      "3 4 5\n"
     ]
    }
   ],
   "source": [
    "# combination of five elements in list\n",
    "\n",
    "def  combifive(li):\n",
    "    \n",
    "    for i in range(len(li)-1):\n",
    "        \n",
    "        for j in range(i+1,len(li)):\n",
    "            \n",
    "            for k in range(j+1,len(li)):\n",
    "                \n",
    "            \n",
    "               print(li[i],li[j],li[k])\n",
    "    return\n",
    "li=[1,2,3,4,5]\n",
    "\n",
    "combifive(li)"
   ]
  },
  {
   "cell_type": "code",
   "execution_count": 31,
   "metadata": {},
   "outputs": [
    {
     "data": {
      "text/plain": [
       "[6, 2]"
      ]
     },
     "execution_count": 31,
     "metadata": {},
     "output_type": "execute_result"
    }
   ],
   "source": [
    "def klargest(li):\n",
    "    cli=li\n",
    "    newelements=[]\n",
    "    for i in range(len(cli)-1):\n",
    "        for j in range(i+1,len(cli)):\n",
    "            d=abs(li[i]-li[j])\n",
    "            if d not in cli:\n",
    "                newelements.append(d)\n",
    "    return newelements\n",
    "li=[1,9,8,7]\n",
    "klargest(li)"
   ]
  },
  {
   "cell_type": "code",
   "execution_count": 31,
   "metadata": {},
   "outputs": [
    {
     "name": "stdout",
     "output_type": "stream",
     "text": [
      "[1, 9, 8, 7, 6, 5, 4, 3, 2]\n",
      "6\n"
     ]
    }
   ],
   "source": [
    "def differenceOfPairs(li):\n",
    "    c = 0\n",
    "    for i in range(len(li)-1):\n",
    "        for j in range(i+1,len(li)):\n",
    "            d=abs(li[i]-li[j])\n",
    "            if d not in li:\n",
    "                li.append(d)\n",
    "                differenceOfPairs(li)\n",
    "                c=c+1\n",
    "                \n",
    "    return li  \n",
    "def kthLargestofDeiffrencePairs(li,k):\n",
    "    li2 = differenceOfPairs(li)\n",
    "    print(li2)\n",
    "    li2 = sorted(li2,reverse = True)\n",
    "    highest = li2[k-1]\n",
    "    print(highest)\n",
    "kthLargestofDeiffrencePairs([1,9],4)\n",
    "\n",
    "\n"
   ]
  },
  {
   "cell_type": "code",
   "execution_count": null,
   "metadata": {},
   "outputs": [],
   "source": [
    "[4,8]\n",
    "\n",
    "[20,40,60]\n",
    "\n",
    "[4,8,12,16]\n",
    "[3,6,9,12]\n",
    "#convert the list into an\n",
    "\n",
    "#arithmetic progression\n",
    "\n",
    "[3,8,15]\n",
    "\n",
    "[3,8,15,5,2,1,4,6,7,9,10,11,12,13,14]\n"
   ]
  },
  {
   "cell_type": "code",
   "execution_count": 44,
   "metadata": {},
   "outputs": [
    {
     "data": {
      "text/plain": [
       "[2, 3, 6, 9, 12, 1, 4, 7, 10]"
      ]
     },
     "execution_count": 44,
     "metadata": {},
     "output_type": "execute_result"
    }
   ],
   "source": [
    "def diffpairs(li):\n",
    "    c = li.copy()\n",
    "    newelements =[]\n",
    "    for i in range(len(li)-1):\n",
    "        for j in range(i+1,len(li)):\n",
    "            d=abs(li[i]-li[j])\n",
    "            if d not in li and d not in newelements:\n",
    "                newelements.append(d)\n",
    "    li.extend(newelements)\n",
    "    return li\n",
    "\n",
    "li=[2,3,6,9,12]\n",
    "\n",
    "diffpairs(li)\n",
    "    \n",
    "    \n",
    "    \n",
    "            \n",
    "            "
   ]
  },
  {
   "cell_type": "markdown",
   "metadata": {},
   "source": [
    "### Set Data Structures In Python"
   ]
  },
  {
   "cell_type": "markdown",
   "metadata": {},
   "source": [
    "# Represented By ' { } '\n",
    "\n",
    "# A = { 1,2,3,4,5,6,7,7 }\n"
   ]
  },
  {
   "cell_type": "code",
   "execution_count": 46,
   "metadata": {},
   "outputs": [
    {
     "data": {
      "text/plain": [
       "{1, 2, 3, 4, 5, 6, 7}"
      ]
     },
     "execution_count": 46,
     "metadata": {},
     "output_type": "execute_result"
    }
   ],
   "source": [
    "A={1,2,3,4,5,6,7,7}\n",
    "A"
   ]
  },
  {
   "cell_type": "code",
   "execution_count": 47,
   "metadata": {},
   "outputs": [
    {
     "data": {
      "text/plain": [
       "{1, 2, 3, 4, 5, 6, 7, 8}"
      ]
     },
     "execution_count": 47,
     "metadata": {},
     "output_type": "execute_result"
    }
   ],
   "source": [
    "A={1,2,3,4,5,6,7,7}\n",
    "A.add(8)\n",
    "A"
   ]
  },
  {
   "cell_type": "code",
   "execution_count": 48,
   "metadata": {},
   "outputs": [
    {
     "name": "stdout",
     "output_type": "stream",
     "text": [
      "12345678"
     ]
    }
   ],
   "source": [
    "A={1,2,3,4,5,6,7,7}\n",
    "A.add(8) # Add A single element  to a set\n",
    "A\n",
    "for i in A:\n",
    "    print(i,end=\"\")"
   ]
  },
  {
   "cell_type": "code",
   "execution_count": 54,
   "metadata": {},
   "outputs": [
    {
     "data": {
      "text/plain": [
       "{1, 2, 3, 4, 5, 6, 7, 8, 9}"
      ]
     },
     "execution_count": 54,
     "metadata": {},
     "output_type": "execute_result"
    }
   ],
   "source": [
    "# Add A multiple element  to a set\n",
    "A={1,2,3,4,5,6,7,7}\n",
    "B={8,9,3}\n",
    "\n",
    "A.update(B)\n",
    "A\n"
   ]
  },
  {
   "cell_type": "code",
   "execution_count": 55,
   "metadata": {},
   "outputs": [
    {
     "data": {
      "text/plain": [
       "{1, 2, 3, 4, 5, 6, 7, 8, 9, 13, 14, 15}"
      ]
     },
     "execution_count": 55,
     "metadata": {},
     "output_type": "execute_result"
    }
   ],
   "source": [
    "# Add A multiple element  to a set\n",
    "\n",
    "A={1,2,3,4,5,6,7,7}\n",
    "\n",
    "B={8,9,3}\n",
    "\n",
    "# Add a list\n",
    "\n",
    "li = [13,14,15,4]\n",
    "\n",
    "A.update(B,li) # Added to Multitple elements\n",
    "\n",
    "A"
   ]
  },
  {
   "cell_type": "code",
   "execution_count": 56,
   "metadata": {},
   "outputs": [],
   "source": [
    "# remove a element 13\n",
    "A.discard(13)"
   ]
  },
  {
   "cell_type": "code",
   "execution_count": 57,
   "metadata": {},
   "outputs": [
    {
     "data": {
      "text/plain": [
       "{1, 2, 3, 4, 5, 6, 7, 8, 9, 14, 15}"
      ]
     },
     "execution_count": 57,
     "metadata": {},
     "output_type": "execute_result"
    }
   ],
   "source": [
    "A"
   ]
  },
  {
   "cell_type": "code",
   "execution_count": 58,
   "metadata": {},
   "outputs": [],
   "source": [
    "# remove a element 13\n",
    "A.discard(6)"
   ]
  },
  {
   "cell_type": "code",
   "execution_count": 59,
   "metadata": {},
   "outputs": [
    {
     "data": {
      "text/plain": [
       "{1, 2, 3, 4, 5, 7, 8, 9, 14, 15}"
      ]
     },
     "execution_count": 59,
     "metadata": {},
     "output_type": "execute_result"
    }
   ],
   "source": [
    "A"
   ]
  },
  {
   "cell_type": "code",
   "execution_count": 61,
   "metadata": {},
   "outputs": [
    {
     "data": {
      "text/plain": [
       "{1, 2, 3, 4, 5, 6, 7, 8, 9}"
      ]
     },
     "execution_count": 61,
     "metadata": {},
     "output_type": "execute_result"
    }
   ],
   "source": [
    "A={1,2,3,4,5,6,7,7}\n",
    "B={8,9,3}\n",
    "A.union(B)"
   ]
  },
  {
   "cell_type": "code",
   "execution_count": 64,
   "metadata": {},
   "outputs": [
    {
     "data": {
      "text/plain": [
       "{3, 4}"
      ]
     },
     "execution_count": 64,
     "metadata": {},
     "output_type": "execute_result"
    }
   ],
   "source": [
    "A={1,2,3,4,5,6,7,7}\n",
    "B={8,9,3,4}\n",
    "\n",
    "A.union(B)\n",
    "\n",
    "# A U B =B U A\n",
    "\n",
    "A.intersection(B)"
   ]
  },
  {
   "cell_type": "code",
   "execution_count": 65,
   "metadata": {},
   "outputs": [
    {
     "data": {
      "text/plain": [
       "False"
      ]
     },
     "execution_count": 65,
     "metadata": {},
     "output_type": "execute_result"
    }
   ],
   "source": [
    "A.isdisjoint(B)"
   ]
  },
  {
   "cell_type": "code",
   "execution_count": 66,
   "metadata": {},
   "outputs": [
    {
     "data": {
      "text/plain": [
       "True"
      ]
     },
     "execution_count": 66,
     "metadata": {},
     "output_type": "execute_result"
    }
   ],
   "source": [
    "A={1,2,3,4,5,6,7,7}\n",
    "B={8,9,3,4}\n",
    "\n",
    "C={33,44}\n",
    "\n",
    "A.union(B)\n",
    "\n",
    "# A U B =B U A\n",
    "\n",
    "A.isdisjoint(C)"
   ]
  },
  {
   "cell_type": "code",
   "execution_count": 67,
   "metadata": {},
   "outputs": [
    {
     "data": {
      "text/plain": [
       "{1, 2, 5, 6, 7}"
      ]
     },
     "execution_count": 67,
     "metadata": {},
     "output_type": "execute_result"
    }
   ],
   "source": [
    "A={1,2,3,4,5,6,7,7}\n",
    "B={8,9,3,4}\n",
    "\n",
    "A-B # All Elements of a which are not in b A-B= A INTERSECTION B\n",
    "\n"
   ]
  },
  {
   "cell_type": "code",
   "execution_count": 71,
   "metadata": {},
   "outputs": [
    {
     "data": {
      "text/plain": [
       "{8, 9}"
      ]
     },
     "execution_count": 71,
     "metadata": {},
     "output_type": "execute_result"
    }
   ],
   "source": [
    "A={1,2,3,4,5,6,7,7}\n",
    "B={8,9,3,4}\n",
    "\n",
    "B-A"
   ]
  },
  {
   "cell_type": "code",
   "execution_count": 73,
   "metadata": {},
   "outputs": [
    {
     "data": {
      "text/plain": [
       "[1, 2, 4, 5, 6, 7, 9]"
      ]
     },
     "execution_count": 73,
     "metadata": {},
     "output_type": "execute_result"
    }
   ],
   "source": [
    "A={1,2,9,4,5,6,7,7}\n",
    "\n",
    "sorted(A)"
   ]
  },
  {
   "cell_type": "code",
   "execution_count": 75,
   "metadata": {},
   "outputs": [
    {
     "data": {
      "text/plain": [
       "{1, 2, 5, 6, 7, 8, 9}"
      ]
     },
     "execution_count": 75,
     "metadata": {},
     "output_type": "execute_result"
    }
   ],
   "source": [
    "A={1,2,3,4,5,6,7,7}\n",
    "B={8,9,3,4}\n",
    "\n",
    "A^B # un common elements to be deleted"
   ]
  },
  {
   "cell_type": "code",
   "execution_count": 76,
   "metadata": {},
   "outputs": [
    {
     "data": {
      "text/plain": [
       "set()"
      ]
     },
     "execution_count": 76,
     "metadata": {},
     "output_type": "execute_result"
    }
   ],
   "source": [
    "d = set()\n",
    "\n",
    "d"
   ]
  },
  {
   "cell_type": "code",
   "execution_count": 78,
   "metadata": {},
   "outputs": [
    {
     "data": {
      "text/plain": [
       "{1, 2, 3, 4}"
      ]
     },
     "execution_count": 78,
     "metadata": {},
     "output_type": "execute_result"
    }
   ],
   "source": [
    "# delete same elements in a set repeatlly \n",
    "\n",
    "li = [1,2,3,4,2,1,2,3,4]\n",
    "\n",
    "u =set(li)\n",
    "u"
   ]
  },
  {
   "cell_type": "code",
   "execution_count": null,
   "metadata": {},
   "outputs": [],
   "source": [
    "Procedural \n",
    "----------------\n",
    "c\n",
    "    \n",
    "Object Oriented \n",
    "----------------\n",
    "Java,Python\n",
    "\n",
    "Scripting\n",
    "----------------\n",
    "PHP \n",
    "PYHTON\n",
    "JAVA SCRIPTING,\n",
    "SHELL,\n",
    "PERL\n",
    "\n",
    "Functional\n",
    "----------------\n",
    "Python\n",
    "\n",
    "Haskell\n",
    "\n",
    "scala\n",
    "\n",
    "Logic\n",
    "----------------\n",
    "ProLog\n",
    "\n",
    "Lisp\n",
    "\n"
   ]
  },
  {
   "cell_type": "markdown",
   "metadata": {},
   "source": [
    "## List CompreHensions"
   ]
  },
  {
   "cell_type": "code",
   "execution_count": 88,
   "metadata": {},
   "outputs": [
    {
     "data": {
      "text/plain": [
       "[10, 9, 8, 7, 6, 5, 4, 3, 2, 1]"
      ]
     },
     "execution_count": 88,
     "metadata": {},
     "output_type": "execute_result"
    }
   ],
   "source": [
    "# N natural Numbers in a list\n",
    "\n",
    "n=10\n",
    "\n",
    "li = []\n",
    "\n",
    "for i in range(1,n+1):\n",
    "    \n",
    "    li.append(i)\n",
    "    \n",
    "li[::-1]\n",
    "\n",
    "    \n",
    "    "
   ]
  },
  {
   "cell_type": "code",
   "execution_count": 82,
   "metadata": {},
   "outputs": [
    {
     "data": {
      "text/plain": [
       "[1, 2, 3, 4, 5, 6, 7, 8, 9, 10]"
      ]
     },
     "execution_count": 82,
     "metadata": {},
     "output_type": "execute_result"
    }
   ],
   "source": [
    "li = [i for i in range(1,11)]\n",
    "li"
   ]
  },
  {
   "cell_type": "code",
   "execution_count": 84,
   "metadata": {},
   "outputs": [
    {
     "data": {
      "text/plain": [
       "[3, 6, 9, 12, 15, 18, 21, 24, 27, 30]"
      ]
     },
     "execution_count": 84,
     "metadata": {},
     "output_type": "execute_result"
    }
   ],
   "source": [
    "# Apply List Comprehension to store the cubes on n natural numbers\n",
    "\n",
    "li = [i*3 for i in range(1,11)]\n",
    "\n",
    "li"
   ]
  },
  {
   "cell_type": "code",
   "execution_count": 93,
   "metadata": {},
   "outputs": [
    {
     "data": {
      "text/plain": [
       "[1, 2, 6, 24, 120, 720, 5040, 40320, 362880, 3628800]"
      ]
     },
     "execution_count": 93,
     "metadata": {},
     "output_type": "execute_result"
    }
   ],
   "source": [
    "# Function to caluclate the factorial\n",
    "\n",
    "def factorial(n):\n",
    "    \n",
    "    if n==0 or n==1:\n",
    "        return 1\n",
    "    return n*factorial(n-1)\n",
    "\n",
    "# Apply list comprehension to caluclate\n",
    "\n",
    "# factorial of n natural numbers\n",
    "\n",
    "n=10\n",
    "\n",
    "factorialList = [factorial(i) for i in range(1,n+1)]\n",
    "\n",
    "factorialList\n",
    "\n",
    "\n"
   ]
  },
  {
   "cell_type": "code",
   "execution_count": 100,
   "metadata": {},
   "outputs": [
    {
     "data": {
      "text/plain": [
       "[1, 3, 6, 10, 15, 21]"
      ]
     },
     "execution_count": 100,
     "metadata": {},
     "output_type": "execute_result"
    }
   ],
   "source": [
    "# Caluclate or store cumulative sum of numbers in a list\n",
    "\n",
    "# Example n=3,[1,3,6]\n",
    "\n",
    "# Example n=5,[1,3,6,10,15]\n",
    "\n",
    "\n",
    "\n",
    "n=6\n",
    "\n",
    "csumlist = [sum(range(1,i+1)) for i in range(1,n+1)]\n",
    "\n",
    "csumlist\n",
    "\n"
   ]
  },
  {
   "cell_type": "code",
   "execution_count": 110,
   "metadata": {},
   "outputs": [
    {
     "data": {
      "text/plain": [
       "[1948,\n",
       " 1952,\n",
       " 1956,\n",
       " 1960,\n",
       " 1964,\n",
       " 1968,\n",
       " 1972,\n",
       " 1976,\n",
       " 1980,\n",
       " 1984,\n",
       " 1988,\n",
       " 1992,\n",
       " 1996,\n",
       " 2000,\n",
       " 2004,\n",
       " 2008,\n",
       " 2012,\n",
       " 2016]"
      ]
     },
     "execution_count": 110,
     "metadata": {},
     "output_type": "execute_result"
    }
   ],
   "source": [
    "# function to store only leap years in a given time period\n",
    "\n",
    "startyear = 1947\n",
    "\n",
    "endyear = 2019\n",
    "\n",
    "leapyears =  [i for i in range(startyear,endyear+1) if i % 400 == 0 or (i % 100 != 0 and i % 4== 0)]\n",
    "\n",
    "leapyears\n",
    "\n",
    "\n",
    "\n"
   ]
  },
  {
   "cell_type": "code",
   "execution_count": 109,
   "metadata": {},
   "outputs": [
    {
     "data": {
      "text/plain": [
       "[3]"
      ]
     },
     "execution_count": 109,
     "metadata": {},
     "output_type": "execute_result"
    }
   ],
   "source": [
    "li = [1,2,3,2,1,4,4,5,5,5]\n",
    "li.sort()\n",
    "u2=[]\n",
    "unique=[]\n",
    "[u2.append(i) for i in ]"
   ]
  },
  {
   "cell_type": "markdown",
   "metadata": {},
   "source": [
    "# Iterators:\n"
   ]
  },
  {
   "cell_type": "code",
   "execution_count": null,
   "metadata": {},
   "outputs": [],
   "source": [
    "Iterable -Strings,Lists,Tuples,Sets,Dictionaries\n",
    "\n",
    "Convert Iterable to iterator -> iter()\n",
    "\n",
    "For Loop:\n",
    "    \n",
    "Iterator:"
   ]
  },
  {
   "cell_type": "code",
   "execution_count": 115,
   "metadata": {},
   "outputs": [
    {
     "data": {
      "text/plain": [
       "'h'"
      ]
     },
     "execution_count": 115,
     "metadata": {},
     "output_type": "execute_result"
    }
   ],
   "source": [
    "# simple function\n",
    "\n",
    "it = iter('Python')\n",
    "\n",
    "next(it)\n",
    "next(it)\n",
    "next(it)\n",
    "next(it)"
   ]
  },
  {
   "cell_type": "code",
   "execution_count": 124,
   "metadata": {},
   "outputs": [
    {
     "name": "stdout",
     "output_type": "stream",
     "text": [
      "1: \n",
      "P\n",
      "\n",
      "\n",
      "2: \n",
      "y\n",
      "\n",
      "\n",
      "3: \n",
      "t\n",
      "\n",
      "\n",
      "4: \n",
      "h\n",
      "\n",
      "\n",
      "5: \n",
      "o\n",
      "\n",
      "\n"
     ]
    }
   ],
   "source": [
    "it = iter('Python')\n",
    "\n",
    "print('1: ')\n",
    "print(next(it))\n",
    "print('\\n')\n",
    "print('2: ')\n",
    "print(next(it))\n",
    "print('\\n')\n",
    "print('3: ')\n",
    "print(next(it))\n",
    "print('\\n')\n",
    "print('4: ')\n",
    "print(next(it))\n",
    "print('\\n')\n",
    "print('5: ')\n",
    "print(next(it))\n",
    "print('\\n')"
   ]
  },
  {
   "cell_type": "markdown",
   "metadata": {},
   "source": [
    "# Generators"
   ]
  },
  {
   "cell_type": "code",
   "execution_count": null,
   "metadata": {},
   "outputs": [],
   "source": [
    "Generator is Function"
   ]
  },
  {
   "cell_type": "code",
   "execution_count": 135,
   "metadata": {},
   "outputs": [
    {
     "data": {
      "text/plain": [
       "64"
      ]
     },
     "execution_count": 135,
     "metadata": {},
     "output_type": "execute_result"
    }
   ],
   "source": [
    "# Example for generator\n",
    "\n",
    "def generator():\n",
    "    n = 4\n",
    "    yield n\n",
    "    n = n ** 3\n",
    "    yield n\n",
    "    n = n ** 3\n",
    "    yield n\n",
    "\n",
    "a=generator()\n",
    "\n",
    "next(a)\n",
    "next(a)\n",
    "\n",
    "    \n",
    "    "
   ]
  },
  {
   "cell_type": "code",
   "execution_count": 137,
   "metadata": {},
   "outputs": [
    {
     "data": {
      "text/plain": [
       "27"
      ]
     },
     "execution_count": 137,
     "metadata": {},
     "output_type": "execute_result"
    }
   ],
   "source": [
    "# Example for generator for loop\n",
    "\n",
    "def generator():\n",
    "    n = 3\n",
    "    for i in range(1,5):\n",
    "        n **= 3\n",
    "        yield n\n",
    "\n",
    "a=generator()\n",
    "\n",
    "next(a)\n",
    "\n",
    "\n",
    "    "
   ]
  },
  {
   "cell_type": "code",
   "execution_count": 150,
   "metadata": {},
   "outputs": [
    {
     "name": "stdout",
     "output_type": "stream",
     "text": [
      "8\n",
      "512\n",
      "134217728\n",
      "2417851639229258349412352\n",
      "14134776518227074636666380005943348126619871175004951664972849610340958208\n"
     ]
    },
    {
     "data": {
      "text/plain": [
       "5794321461488428329382097451678694534570333451736054453196158540076870950131515684346242173464135357300237136401282669927637061071584595466752402044930121997945898858751107676570715702039015848684977380408169763650711711685011955294472161474142477635828138113683972783450195354656132999362501025342715885988288391508369302227152752446685650565882988079973732542160440121826263713021124239474019545886578264601822383238355473111752070843296545518073448458632623913922607804939361739034264296514656247381253227032401175052594901505993940559849849170529380061697213145751520780608322988472889571597530680829114977810404168344984695511613538314599662340388695020124362218029440511448959120264371551145253270362307482602499769970845724051631288766013527909041482755185056522640697176684478362420194954453117881670420785040514494737256598801754979217166845443083756179748085239902979131876240785934525573661073723092469709369527176329436214524718884433166296004714613015186602089296292779105394531440838884067855239113608624072918558048013981476837073029582610834363697817445257251554389660624742698531829683455495246260747936254221431937402199209149888069281792167237838950525359291140380947329328850297470870836593081387251865648750159999822280394109454710595610050208471166283658895143939656987008118522279615288954235409922412478076565987709099102978053334948474030907783850765155812348707651883127172031031617710323856783223161053694130942621803303264717184589880922771714905689579860045133383030372421132919454910871191184501500083054455191254134483616279498597166325212506944243042828644744716268329389977843562203777176595619787143820545323961685514352702779061495653604073892333363241000449465022624105372267578240860166090070735652862274794437966254832358208673493145158174104174937468388863829412295872538341509528228127581308153374783301510080088791081291495613486938196814380622634890478496348164773085136366384272080430799897148439001316690805059729542089483283901957926884877848947131323621665986007974401770590034336342541640895111492394606717330575231361365227634011889574375632880327058727921703995315037007374649551651105309308960434507112141357675914353810612730105035016081461730331595669281504350980255837193417674932661237647280246433947815106736159225509876831473150958455875630185434243928584220738693936941307292926982435737348015276513025223014553934423757591634169218589737030241566125215188645259463958627826444619201971954325284294359890032684730240120162250488935256012334050287618200185003699167695711301326558589312036815007359957668461095760181290766855168185179459821200636204643128859804291314967423727545651845085497686407735763114084410754692436858806246605977042755927593251453161497154173636326422465162531528683484234925858037613734659118068673338201430654568385182819757094530803160792763005026736170476592844911495956349274905519213582198462064862207442607142692959016998438080156475250035733933404918394287553637510171778840585787873326080854279641906879917972465876070252658961952902890570569314803130211713323492842054604455671368826650331544857696549457290932716226402925900715111907354597548245365582545633024651949788478140401464042294077552649039517207248297160989672182878458752945031682735572594027456100073959465704568415014004266467993602490368"
      ]
     },
     "execution_count": 150,
     "metadata": {},
     "output_type": "execute_result"
    }
   ],
   "source": [
    "# Example for generator for  while loop\n",
    "\n",
    "def generator():\n",
    "    n = 2\n",
    "    while True:\n",
    "        n **= 3\n",
    "        yield n\n",
    "\n",
    "a=generator()\n",
    "\n",
    "for i in range(5):\n",
    "    print(next(a))\n",
    "\n",
    "next(a)\n",
    "b = next(a) ** 2\n",
    "b *= next(a)\n",
    "b"
   ]
  },
  {
   "cell_type": "code",
   "execution_count": null,
   "metadata": {},
   "outputs": [],
   "source": []
  }
 ],
 "metadata": {
  "kernelspec": {
   "display_name": "Python 3",
   "language": "python",
   "name": "python3"
  },
  "language_info": {
   "codemirror_mode": {
    "name": "ipython",
    "version": 3
   },
   "file_extension": ".py",
   "mimetype": "text/x-python",
   "name": "python",
   "nbconvert_exporter": "python",
   "pygments_lexer": "ipython3",
   "version": "3.7.3"
  }
 },
 "nbformat": 4,
 "nbformat_minor": 2
}
