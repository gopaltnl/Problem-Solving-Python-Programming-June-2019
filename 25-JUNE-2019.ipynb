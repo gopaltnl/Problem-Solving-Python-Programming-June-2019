{
 "cells": [
  {
   "cell_type": "code",
   "execution_count": 1,
   "metadata": {},
   "outputs": [
    {
     "name": "stdout",
     "output_type": "stream",
     "text": [
      "40 marks stored sucessfully..!!!!\n"
     ]
    }
   ],
   "source": [
    "# generate marks of three arguments\n",
    "from random import randint\n",
    "def generatemarks(n,lb,ub):\n",
    "    filepath='datafiles/marks.txt'\n",
    "\n",
    "    with open(filepath,'w') as f:\n",
    "        for i in range(0,n):\n",
    "            r=randint(lb,ub)\n",
    "            f.write(str(r)+'\\n')\n",
    "        print(n,\"marks stored sucessfully..!!!!\")\n",
    "generatemarks(40,1,100)"
   ]
  },
  {
   "cell_type": "code",
   "execution_count": 2,
   "metadata": {},
   "outputs": [
    {
     "name": "stdout",
     "output_type": "stream",
     "text": [
      "Class Average: 54\n"
     ]
    }
   ],
   "source": [
    "# Clas Avarage\n",
    "def classAvg(filepath):\n",
    "    with open(filepath,'r') as f:\n",
    "        marks = f.read().split()\n",
    "        ls = [int(x) for x in marks]\n",
    "        res = sum(ls)//len(ls)\n",
    "        print('Class Average:',res)\n",
    "classAvg('datafiles/marks.txt')"
   ]
  },
  {
   "cell_type": "code",
   "execution_count": 3,
   "metadata": {},
   "outputs": [
    {
     "name": "stdout",
     "output_type": "stream",
     "text": [
      "67.5\n"
     ]
    }
   ],
   "source": [
    "# % of student passed\n",
    "def percentpass(filepath):\n",
    "    with open(filepath,'r') as f:\n",
    "         marks = f.read().split()\n",
    "    ls = [int(x) for x in marks if int(x)>=35]\n",
    "    per=(len(ls)/len(marks))*100\n",
    "    print(per)\n",
    "percentpass('datafiles/marks.txt')"
   ]
  },
  {
   "cell_type": "code",
   "execution_count": 4,
   "metadata": {},
   "outputs": [
    {
     "name": "stdout",
     "output_type": "stream",
     "text": [
      "Percentage of Failed Students: 32.5 %\n"
     ]
    }
   ],
   "source": [
    "# Percentage Failed\n",
    "def percentFailed(filepath):\n",
    "    with open(filepath,'r') as f:\n",
    "        marks = f.read().split()\n",
    "    ls = [int(x) for x in marks if int(x) < 35]\n",
    "    passper = (len(ls)/len(marks))*100\n",
    "    print(\"Percentage of Failed Students:\",passper,\"%\")\n",
    "percentFailed('datafiles/marks.txt')"
   ]
  },
  {
   "cell_type": "code",
   "execution_count": 5,
   "metadata": {},
   "outputs": [
    {
     "name": "stdout",
     "output_type": "stream",
     "text": [
      "Percentage of Distinction Students: 32.5 %\n"
     ]
    }
   ],
   "source": [
    "# Distinction percentage\n",
    "def percenWithDist(filepath):\n",
    "    with open(filepath,'r') as f:\n",
    "        marks = f.read().split()\n",
    "    ls = [int(x) for x in marks if int(x)>=75]\n",
    "    passper = (len(ls)/len(marks))*100\n",
    "    print(\"Percentage of Distinction Students:\",passper,\"%\")\n",
    "percenWithDist('datafiles/marks.txt')"
   ]
  },
  {
   "cell_type": "code",
   "execution_count": 6,
   "metadata": {},
   "outputs": [
    {
     "name": "stdout",
     "output_type": "stream",
     "text": [
      "Highest Marks Is: 98 -> 2 students\n"
     ]
    }
   ],
   "source": [
    "# % of student highest marks frequency\n",
    "def highfrequency(filepath):\n",
    "    with open(filepath,'r') as f:\n",
    "        marks = f.read().split()\n",
    "    ls = [int(x) for x in marks]\n",
    "    c=0\n",
    "    for i in range(0,len(ls)):\n",
    "        if(ls[i]==max(ls)):\n",
    "            c+=1\n",
    "    print(\"Highest Marks Is:\",max(ls),\"->\",c,\"students\")\n",
    "highfrequency('datafiles/marks.txt')"
   ]
  },
  {
   "cell_type": "code",
   "execution_count": 7,
   "metadata": {},
   "outputs": [
    {
     "name": "stdout",
     "output_type": "stream",
     "text": [
      "Lowest Marks Is: 6 -> 2 students\n"
     ]
    }
   ],
   "source": [
    "# % of student minimum marks frequency\n",
    "def lowfrequency(filepath):\n",
    "    with open(filepath,'r') as f:\n",
    "        marks = f.read().split()\n",
    "    ls = [int(x) for x in marks]\n",
    "    c=0\n",
    "    for i in range(0,len(ls)):\n",
    "        if(ls[i]==max(ls)):\n",
    "            c+=1\n",
    "    print(\"Lowest Marks Is:\",min(ls),\"->\",c,\"students\")\n",
    "lowfrequency('datafiles/marks.txt')"
   ]
  },
  {
   "cell_type": "code",
   "execution_count": 8,
   "metadata": {},
   "outputs": [
    {
     "name": "stdout",
     "output_type": "stream",
     "text": [
      "Classs Report Below:\n",
      "------------------------------------------------\n",
      "Class Average: 54\n",
      "------------------------------------------------\n",
      "67.5\n",
      "------------------------------------------------\n",
      "Percentage of Failed Students: 32.5 %\n",
      "------------------------------------------------\n",
      "Percentage of Distinction Students: 32.5 %\n",
      "------------------------------------------------\n",
      "Highest Marks Is: 98 -> 2 students\n",
      "------------------------------------------------\n",
      "Lowest Marks Is: 6 -> 2 students\n",
      "------------------------------------------------\n"
     ]
    }
   ],
   "source": [
    "# get class report\n",
    "def classReport():\n",
    "    filepath = 'datafiles/marks.txt'\n",
    "    print(\"Classs Report Below:\")\n",
    "    print(\"------------------------------------------------\")\n",
    "    classAvg(filepath)\n",
    "    print(\"------------------------------------------------\")\n",
    "    percentpass(filepath)\n",
    "    print(\"------------------------------------------------\")\n",
    "    percentFailed(filepath)\n",
    "    print(\"------------------------------------------------\")\n",
    "    percenWithDist(filepath)\n",
    "    print(\"------------------------------------------------\")\n",
    "    highfrequency(filepath)\n",
    "    print(\"------------------------------------------------\")\n",
    "    lowfrequency(filepath)\n",
    "    print(\"------------------------------------------------\")\n",
    "    return\n",
    "classReport()"
   ]
  },
  {
   "cell_type": "markdown",
   "metadata": {},
   "source": [
    "### Contacts Application\n"
   ]
  },
  {
   "cell_type": "code",
   "execution_count": 9,
   "metadata": {},
   "outputs": [
    {
     "data": {
      "text/plain": [
       "False"
      ]
     },
     "execution_count": 9,
     "metadata": {},
     "output_type": "execute_result"
    }
   ],
   "source": [
    "import re\n",
    "def phvalidator(number):\n",
    "    pattern = '^[6-9][0-9]{9}$|[0][6-9][0-9]{9}$^[+][9][1][6-9][0-9]{9}$'\n",
    "    if re.match(pattern,str(number)):\n",
    "        return True\n",
    "    else:\n",
    "        return False\n",
    "    return\n",
    "phvalidator(78935353018)"
   ]
  },
  {
   "cell_type": "code",
   "execution_count": 10,
   "metadata": {},
   "outputs": [
    {
     "data": {
      "text/plain": [
       "True"
      ]
     },
     "execution_count": 10,
     "metadata": {},
     "output_type": "execute_result"
    }
   ],
   "source": [
    "def emailval(email):\n",
    "    pattern='^[0-9a-z][0-9a-z_.]{4,13}[0-9a-z][@][a-z0-9]{3,18}[.][a-z]{2,4}'\n",
    "    if re.match(pattern,email):\n",
    "        return True\n",
    "    return False\n",
    "emailval(\"gopal3018@gmail.com\")"
   ]
  },
  {
   "cell_type": "code",
   "execution_count": 2,
   "metadata": {},
   "outputs": [],
   "source": [
    "import re\n",
    "def checkContactExists(name):\n",
    "    filename = 'dataFiles/contacts.txt'\n",
    "    with open(filename,'r') as f:\n",
    "        filedata = f.read()\n",
    "        pattern = name+','\n",
    "    return re.search(pattern,filedata)\n",
    "checkContactExists(\"gopal\")"
   ]
  },
  {
   "cell_type": "code",
   "execution_count": 6,
   "metadata": {},
   "outputs": [
    {
     "name": "stdout",
     "output_type": "stream",
     "text": [
      "None\n"
     ]
    }
   ],
   "source": [
    "from packages.validators import phoneNumberValidator as ph,emailValidator as em\n",
    "def addcontact(name,number,email):\n",
    "    filename = 'datafiles/contacts.txt'\n",
    "    if ph(number) and em(email):\n",
    "        if checkContactExists(name):\n",
    "            print(\"Contact Exists.\")\n",
    "            with open(filename,'a') as f:\n",
    "                f.writelines(name+','+str(number)+','+email+'\\n')\n",
    "                print(name,\"Saved ...\")\n",
    "    else:\n",
    "        print(\"Invalid data,either email or phone number is invalid\")\n",
    "print(addcontact('mastanvalfsdfsdfi',7702483004,'anilpolineni09@gmail.com'))"
   ]
  },
  {
   "cell_type": "code",
   "execution_count": 31,
   "metadata": {},
   "outputs": [
    {
     "name": "stdout",
     "output_type": "stream",
     "text": [
      "e\n",
      "a\n",
      "p\n"
     ]
    }
   ],
   "source": [
    "# to print numbers in reverse order using strings to print new line\n",
    "x=['p','a','e']\n",
    "y=x[::-1]\n",
    "for i in y:\n",
    "    print(i)"
   ]
  },
  {
   "cell_type": "code",
   "execution_count": null,
   "metadata": {},
   "outputs": [],
   "source": [
    "# to print numbers in reverse order using strings to print new line\n",
    "x='gopal'\n",
    "y=x[::-1]\n",
    "for i in y:\n",
    "    print(i)"
   ]
  }
 ],
 "metadata": {
  "kernelspec": {
   "display_name": "Python 3",
   "language": "python",
   "name": "python3"
  },
  "language_info": {
   "codemirror_mode": {
    "name": "ipython",
    "version": 3
   },
   "file_extension": ".py",
   "mimetype": "text/x-python",
   "name": "python",
   "nbconvert_exporter": "python",
   "pygments_lexer": "ipython3",
   "version": "3.7.3"
  }
 },
 "nbformat": 4,
 "nbformat_minor": 2
}
