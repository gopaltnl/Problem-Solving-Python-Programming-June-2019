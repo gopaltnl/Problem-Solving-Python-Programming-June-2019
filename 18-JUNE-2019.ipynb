{
 "cells": [
  {
   "cell_type": "code",
   "execution_count": 1,
   "metadata": {},
   "outputs": [
    {
     "name": "stdout",
     "output_type": "stream",
     "text": [
      "hell\n"
     ]
    }
   ],
   "source": [
    "print(\"hell\")"
   ]
  },
  {
   "cell_type": "code",
   "execution_count": 2,
   "metadata": {},
   "outputs": [
    {
     "name": "stdout",
     "output_type": "stream",
     "text": [
      "2\n",
      "2\n",
      "6\n",
      "30\n",
      "YES\n",
      "YES\n"
     ]
    }
   ],
   "source": [
    "# Prime Factors\n",
    "## Special numbers\n",
    "\n",
    "def checkPrime(sn):\n",
    "    flag = 0\n",
    "    if(sn==2):\n",
    "        return True\n",
    "    else:\n",
    "        for i in range(2,sn):\n",
    "            if(sn%i==0):\n",
    "                flag = 1\n",
    "                break\n",
    "    if(flag == 1):\n",
    "        return False\n",
    "    else:\n",
    "        return True\n",
    "    \n",
    "\n",
    "def primeFactorsList(num):\n",
    "    ls=[]\n",
    "    for i in range(2,num+1):\n",
    "        if(num%i == 0):\n",
    "            if(checkPrime(i)):\n",
    "                ls.append(i)\n",
    "    # print(ls)\n",
    "    return len(ls)\n",
    "def isSpecialNumber(n,p):\n",
    "    if(primeFactorsList(n)>=p):\n",
    "        return True\n",
    "    else:\n",
    "        return False\n",
    "n = int(input())\n",
    "p = int(input())\n",
    "ls = []\n",
    "for i in range(1,n+1):\n",
    "    ls.append(int(input()))\n",
    "for j in range(0,len(ls)):\n",
    "    if(isSpecialNumber(ls[j],p)):\n",
    "        print(\"YES\")\n",
    "    else:\n",
    "        print(\"NO\")\n"
   ]
  },
  {
   "cell_type": "code",
   "execution_count": 21,
   "metadata": {},
   "outputs": [
    {
     "data": {
      "text/plain": [
       "True"
      ]
     },
     "execution_count": 21,
     "metadata": {},
     "output_type": "execute_result"
    }
   ],
   "source": [
    "# special number\n",
    "\n",
    "#function to determine if a number is secial number or not\n",
    "\n",
    "#function to check if number is prime\n",
    "\n",
    "def isprime(n):\n",
    "    flag = 1\n",
    "    if n == 2:\n",
    "        return True\n",
    "    for i in range(2,n//2+1):\n",
    "        if n % i == 0:\n",
    "            flag == 0\n",
    "            return False\n",
    "    if flag == 1:\n",
    "        return True\n",
    "isprime(13)\n",
    "    \n",
    "#function to determine number of prime factors"
   ]
  },
  {
   "cell_type": "code",
   "execution_count": null,
   "metadata": {},
   "outputs": [],
   "source": [
    "### play with numbers\n",
    "\n",
    "n = input().split()\n",
    "n[0],n[1] = int(n[0]),int(n[1])\n",
    "a = input().split()\n",
    "sum = []\n",
    "# cumulative sum\n",
    "for i in range(0,n[0]):\n",
    "    if i == 0:\n",
    "        sum.append(int(a[i]))\n",
    "    else:\n",
    "        sum.append(int(sum[i-1]) +int(a[i]))\n",
    "print(sum[n[0] -1])"
   ]
  },
  {
   "cell_type": "code",
   "execution_count": 2,
   "metadata": {
    "scrolled": true
   },
   "outputs": [
    {
     "name": "stdout",
     "output_type": "stream",
     "text": [
      "1 100\n",
      "100 200\n",
      "100\n"
     ]
    }
   ],
   "source": [
    "### play with numbers\n",
    "\n",
    "n = input().split()\n",
    "n[0],n[1] = int(n[0]),int(n[1])\n",
    "a = input().split()\n",
    "sum = []\n",
    "# cumulative sum\n",
    "for i in range(0,n[0]):\n",
    "    if i == 0:\n",
    "        sum.append(int(a[i]))\n",
    "    else:\n",
    "        sum.append(int(sum[i-1]) +int(a[i]))\n",
    "print(sum[n[0] -1])"
   ]
  },
  {
   "cell_type": "markdown",
   "metadata": {},
   "source": [
    "# Tuples In Python"
   ]
  },
  {
   "cell_type": "markdown",
   "metadata": {},
   "source": [
    "Difference between lists and tuples\n",
    "\n",
    "tl = ()\n",
    "\n",
    "list = []\n",
    "\n",
    "Difference between lists and tuples.\n",
    "\n",
    "lists are mutable -can be changed /modified.\n",
    "\n",
    "tuples are immutable -cannot be changed once initialized.\n",
    "\n",
    "\n",
    ".tuples are generally used to access data only.\n",
    "\n",
    ".lists are used to access ,modify,add,delete data only.\n",
    "\n",
    ".all slicing work\n"
   ]
  },
  {
   "cell_type": "code",
   "execution_count": 3,
   "metadata": {},
   "outputs": [
    {
     "data": {
      "text/plain": [
       "('gopal', 'chalapathi', 'siva', 'mastan')"
      ]
     },
     "execution_count": 3,
     "metadata": {},
     "output_type": "execute_result"
    }
   ],
   "source": [
    "# create the touple\n",
    "tl =(\"gopal\",\"chalapathi\",\"siva\",\"mastan\")\n",
    "tl"
   ]
  },
  {
   "cell_type": "code",
   "execution_count": 4,
   "metadata": {},
   "outputs": [
    {
     "data": {
      "text/plain": [
       "(1, 2, 3, 4, 5, 6)"
      ]
     },
     "execution_count": 4,
     "metadata": {},
     "output_type": "execute_result"
    }
   ],
   "source": [
    "tl =(1,2,3,4,5,6)\n",
    "tl"
   ]
  },
  {
   "cell_type": "code",
   "execution_count": 5,
   "metadata": {},
   "outputs": [
    {
     "data": {
      "text/plain": [
       "4"
      ]
     },
     "execution_count": 5,
     "metadata": {},
     "output_type": "execute_result"
    }
   ],
   "source": [
    "tl =(1,2,3,4,5,6)\n",
    "tl[3] #accessing the fourth element"
   ]
  },
  {
   "cell_type": "code",
   "execution_count": 11,
   "metadata": {},
   "outputs": [
    {
     "data": {
      "text/plain": [
       "(4, 5, 6)"
      ]
     },
     "execution_count": 11,
     "metadata": {},
     "output_type": "execute_result"
    }
   ],
   "source": [
    " #accessing all elements from middle to last\n",
    "t1 =(1,2,3,4,5,6)\n",
    "t1[3]\n",
    "t1[len(t1)//2:]"
   ]
  },
  {
   "cell_type": "code",
   "execution_count": 12,
   "metadata": {},
   "outputs": [
    {
     "data": {
      "text/plain": [
       "tuple"
      ]
     },
     "execution_count": 12,
     "metadata": {},
     "output_type": "execute_result"
    }
   ],
   "source": [
    "tl =(1,2,3,4,5,6)\n",
    "tl[3] #accessing type of t1\n",
    "type(t1)"
   ]
  },
  {
   "cell_type": "markdown",
   "metadata": {},
   "source": [
    "## Dictionaries In Python"
   ]
  },
  {
   "cell_type": "markdown",
   "metadata": {},
   "source": [
    "it works on the concept of set.\n",
    "\n",
    "unique data.\n",
    "\n",
    "keys,values.\n",
    "\n",
    "key is the unique identifier and value.\n",
    "\n",
    "value is data that can be accessed with a key.\n",
    "\n",
    "\n",
    "\n",
    "\n"
   ]
  },
  {
   "cell_type": "code",
   "execution_count": 13,
   "metadata": {},
   "outputs": [
    {
     "data": {
      "text/plain": [
       "{'a1': 'gopal', 'a2': 'chalapathi'}"
      ]
     },
     "execution_count": 13,
     "metadata": {},
     "output_type": "execute_result"
    }
   ],
   "source": [
    "# create the dictionary\n",
    "dl = {\"a1\":\"gopal\",\"a2\":\"chalapathi\"}\n",
    "dl"
   ]
  },
  {
   "cell_type": "code",
   "execution_count": 14,
   "metadata": {},
   "outputs": [
    {
     "data": {
      "text/plain": [
       "'chalapathi'"
      ]
     },
     "execution_count": 14,
     "metadata": {},
     "output_type": "execute_result"
    }
   ],
   "source": [
    "#accessing the value with key \"a2\"\n",
    "dl = {\"a1\":\"gopal\",\"a2\":\"chalapathi\"}\n",
    "dl[\"a2\"]    "
   ]
  },
  {
   "cell_type": "code",
   "execution_count": 17,
   "metadata": {},
   "outputs": [
    {
     "data": {
      "text/plain": [
       "dict_keys(['a1', 'a2'])"
      ]
     },
     "execution_count": 17,
     "metadata": {},
     "output_type": "execute_result"
    }
   ],
   "source": [
    "  #returns list of all keys\n",
    "dl = {\"a1\":\"gopal\",\"a2\":\"chalapathi\"}\n",
    "dl.keys()                                   "
   ]
  },
  {
   "cell_type": "code",
   "execution_count": 18,
   "metadata": {},
   "outputs": [
    {
     "data": {
      "text/plain": [
       "dict_values(['gopal', 'chalapathi'])"
      ]
     },
     "execution_count": 18,
     "metadata": {},
     "output_type": "execute_result"
    }
   ],
   "source": [
    "  #returns list of all values\n",
    "dl = {\"a1\":\"gopal\",\"a2\":\"chalapathi\"}\n",
    "dl.values()                                 "
   ]
  },
  {
   "cell_type": "code",
   "execution_count": 19,
   "metadata": {},
   "outputs": [
    {
     "data": {
      "text/plain": [
       "dict_items([('a1', 'gopal'), ('a2', 'chalapathi')])"
      ]
     },
     "execution_count": 19,
     "metadata": {},
     "output_type": "execute_result"
    }
   ],
   "source": [
    "#returns list of all keys and values\n",
    "dl = {\"a1\":\"gopal\",\"a2\":\"chalapathi\"}\n",
    "dl.items()                                    "
   ]
  },
  {
   "cell_type": "code",
   "execution_count": 20,
   "metadata": {},
   "outputs": [
    {
     "data": {
      "text/plain": [
       "{'a1': 'gopal', 'a2': 'chalapathi', 'a3': 'siva'}"
      ]
     },
     "execution_count": 20,
     "metadata": {},
     "output_type": "execute_result"
    }
   ],
   "source": [
    "# new value added to dictionary\n",
    "dl = {\"a1\":\"gopal\",\"a2\":\"chalapathi\"}\n",
    "dl[\"a3\"] = \"siva\"\n",
    "dl "
   ]
  },
  {
   "cell_type": "code",
   "execution_count": 23,
   "metadata": {},
   "outputs": [
    {
     "data": {
      "text/plain": [
       "{'a1': 'gopal', 'a2': 'chalapathi', 'a3': 'mani'}"
      ]
     },
     "execution_count": 23,
     "metadata": {},
     "output_type": "execute_result"
    }
   ],
   "source": [
    " # new value update the element in the  dictionary\n",
    "dl = {\"a1\":\"gopal\",\"a2\":\"chalapathi\"}\n",
    "dl[\"a3\"] = \"mani\"\n",
    "dl "
   ]
  },
  {
   "cell_type": "code",
   "execution_count": 28,
   "metadata": {},
   "outputs": [
    {
     "data": {
      "text/plain": [
       "{'a1': 'gopal', 'a2': 'chalapathi', 'a3': 'mani'}"
      ]
     },
     "execution_count": 28,
     "metadata": {},
     "output_type": "execute_result"
    }
   ],
   "source": [
    " # remove of an element \n",
    "dl = {\"a1\":\"gopal\",\"a2\":\"chalapathi\"}\n",
    "dl[\"a3\"] = \"mani\"\n",
    "dl\n"
   ]
  },
  {
   "cell_type": "code",
   "execution_count": 29,
   "metadata": {},
   "outputs": [
    {
     "data": {
      "text/plain": [
       "'chalapathi'"
      ]
     },
     "execution_count": 29,
     "metadata": {},
     "output_type": "execute_result"
    }
   ],
   "source": [
    "dl .pop(\"a2\")"
   ]
  },
  {
   "cell_type": "code",
   "execution_count": 30,
   "metadata": {},
   "outputs": [
    {
     "data": {
      "text/plain": [
       "{'a1': 'gopal', 'a3': 'mani'}"
      ]
     },
     "execution_count": 30,
     "metadata": {},
     "output_type": "execute_result"
    }
   ],
   "source": [
    "dl"
   ]
  },
  {
   "cell_type": "code",
   "execution_count": 31,
   "metadata": {},
   "outputs": [
    {
     "data": {
      "text/plain": [
       "'gopal'"
      ]
     },
     "execution_count": 31,
     "metadata": {},
     "output_type": "execute_result"
    }
   ],
   "source": [
    "dl.pop(\"a1\")"
   ]
  },
  {
   "cell_type": "code",
   "execution_count": 32,
   "metadata": {},
   "outputs": [
    {
     "data": {
      "text/plain": [
       "{'a3': 'mani'}"
      ]
     },
     "execution_count": 32,
     "metadata": {},
     "output_type": "execute_result"
    }
   ],
   "source": [
    "dl"
   ]
  },
  {
   "cell_type": "code",
   "execution_count": 33,
   "metadata": {},
   "outputs": [
    {
     "data": {
      "text/plain": [
       "'mani'"
      ]
     },
     "execution_count": 33,
     "metadata": {},
     "output_type": "execute_result"
    }
   ],
   "source": [
    "dl.pop(\"a3\")"
   ]
  },
  {
   "cell_type": "code",
   "execution_count": 34,
   "metadata": {},
   "outputs": [
    {
     "data": {
      "text/plain": [
       "{}"
      ]
     },
     "execution_count": 34,
     "metadata": {},
     "output_type": "execute_result"
    }
   ],
   "source": [
    "dl"
   ]
  },
  {
   "cell_type": "markdown",
   "metadata": {},
   "source": [
    "# Contacts Application\n",
    "- Add Contacts\n",
    "- Serach for Contacts\n",
    "- Modify the Contacts\n",
    "- Remove a Contacts\n",
    "- List all Contacts :\n",
    "\n",
    "\n",
    "- name1:phone1\n",
    "- name2:phone2\n",
    "- import contacts\n"
   ]
  },
  {
   "cell_type": "code",
   "execution_count": 50,
   "metadata": {},
   "outputs": [],
   "source": [
    "contacts ={}\n",
    "\n",
    "def addcontacts(name,phoneno):\n",
    "    \n",
    "    # verify th contact doesnot already exists\n",
    "    \n",
    "    if name in contacts:\n",
    "         print(\"contacts %s already exists\"% name)\n",
    "    else:\n",
    "        contacts[name] = phoneno\n",
    "    return\n",
    "addcontacts(\"sss\",\"9493872308\")"
   ]
  },
  {
   "cell_type": "code",
   "execution_count": 43,
   "metadata": {},
   "outputs": [
    {
     "data": {
      "text/plain": [
       "{'sss': '9493872308'}"
      ]
     },
     "execution_count": 43,
     "metadata": {},
     "output_type": "execute_result"
    }
   ],
   "source": [
    "contacts"
   ]
  },
  {
   "cell_type": "code",
   "execution_count": 48,
   "metadata": {
    "scrolled": true
   },
   "outputs": [
    {
     "name": "stdout",
     "output_type": "stream",
     "text": [
      "sss : 9493872308\n"
     ]
    }
   ],
   "source": [
    "# seraching\n",
    "def searchcontact(name):\n",
    "    if name in contacts:\n",
    "        print(name,\":\",contacts[name])\n",
    "    else:\n",
    "        print(\"%s does not exits\" % name)\n",
    "    return\n",
    "searchcontact(\"sss\")"
   ]
  },
  {
   "cell_type": "code",
   "execution_count": 51,
   "metadata": {},
   "outputs": [
    {
     "name": "stdout",
     "output_type": "stream",
     "text": [
      "gopal\n"
     ]
    }
   ],
   "source": [
    "print(\"gopal\")"
   ]
  },
  {
   "cell_type": "code",
   "execution_count": 55,
   "metadata": {},
   "outputs": [
    {
     "name": "stdout",
     "output_type": "stream",
     "text": [
      "3 contacts added to sucessfully\n"
     ]
    }
   ],
   "source": [
    "def impor(newcontacts):\n",
    "    contacts.update(newcontacts)\n",
    "    print(len(newcontacts.keys()),\"contacts added to sucessfully\")\n",
    "    return\n",
    "newcontacts = {\"mani\":949595599595,\"shiva\":9704916692,\"lakshi\":9493872318}\n",
    "impor(newcontacts)"
   ]
  },
  {
   "cell_type": "code",
   "execution_count": 56,
   "metadata": {},
   "outputs": [
    {
     "data": {
      "text/plain": [
       "{'mani': 949595599595, 'shiva': 9704916692, 'lakshi': 9493872318}"
      ]
     },
     "execution_count": 56,
     "metadata": {},
     "output_type": "execute_result"
    }
   ],
   "source": [
    "newcontacts"
   ]
  },
  {
   "cell_type": "code",
   "execution_count": 57,
   "metadata": {},
   "outputs": [
    {
     "data": {
      "text/plain": [
       "{'sss': '9493872308',\n",
       " 'mani': 949595599595,\n",
       " 'shiva': 9704916692,\n",
       " 'lakshi': 9493872318}"
      ]
     },
     "execution_count": 57,
     "metadata": {},
     "output_type": "execute_result"
    }
   ],
   "source": [
    "contacts"
   ]
  },
  {
   "cell_type": "code",
   "execution_count": 60,
   "metadata": {},
   "outputs": [
    {
     "name": "stdout",
     "output_type": "stream",
     "text": [
      "deleted sucessfully\n"
     ]
    }
   ],
   "source": [
    "def delete(name):\n",
    "    if name in contacts:\n",
    "        contacts.pop(\"shiva\")\n",
    "        print(\"deleted sucessfully\")\n",
    "    else:\n",
    "        print(\"un sucess\")\n",
    "delete(\"shiva\")    "
   ]
  },
  {
   "cell_type": "code",
   "execution_count": 61,
   "metadata": {},
   "outputs": [
    {
     "data": {
      "text/plain": [
       "{'sss': '9493872308', 'mani': 949595599595, 'lakshi': 9493872318}"
      ]
     },
     "execution_count": 61,
     "metadata": {},
     "output_type": "execute_result"
    }
   ],
   "source": [
    "contacts"
   ]
  },
  {
   "cell_type": "code",
   "execution_count": 62,
   "metadata": {},
   "outputs": [
    {
     "name": "stdout",
     "output_type": "stream",
     "text": [
      "deleted sucessfully\n"
     ]
    }
   ],
   "source": [
    "def delete(name):\n",
    "    if name in contacts:\n",
    "        contacts.pop(\"lakshi\")\n",
    "        print(\"deleted sucessfully\")\n",
    "    else:\n",
    "        print(\"un sucess\")\n",
    "delete(\"lakshi\")    "
   ]
  },
  {
   "cell_type": "code",
   "execution_count": 63,
   "metadata": {},
   "outputs": [
    {
     "name": "stdout",
     "output_type": "stream",
     "text": [
      "sucessfully updated kumar\n"
     ]
    }
   ],
   "source": [
    "def update(name):\n",
    "    if name in contacts:\n",
    "        contacts[\"sss\"] = \"kumar\"\n",
    "        print(\"sucessfully updated\",contacts[name])\n",
    "    else:\n",
    "        print(\"not update\")\n",
    "update(\"sss\")\n",
    "        "
   ]
  },
  {
   "cell_type": "code",
   "execution_count": 64,
   "metadata": {},
   "outputs": [
    {
     "data": {
      "text/plain": [
       "{'sss': 'kumar', 'mani': 949595599595}"
      ]
     },
     "execution_count": 64,
     "metadata": {},
     "output_type": "execute_result"
    }
   ],
   "source": [
    "contacts"
   ]
  },
  {
   "cell_type": "markdown",
   "metadata": {},
   "source": [
    "## Packages\n",
    "\n",
    "## **Package**-> Collection of Modules(Python file .py). and SubPackage.\n",
    " \n",
    "## **Module**->   Single Python File Containing Functions.\n",
    "\n",
    "## **Package** -> Sub Package->Modules->Functions\n",
    "\n",
    " "
   ]
  },
  {
   "cell_type": "code",
   "execution_count": 71,
   "metadata": {},
   "outputs": [
    {
     "data": {
      "text/plain": [
       "3.141592653589793"
      ]
     },
     "execution_count": 71,
     "metadata": {},
     "output_type": "execute_result"
    }
   ],
   "source": [
    " import math\n",
    " \n",
    " math.floor(123.456)\n",
    " \n",
    " math.pi"
   ]
  },
  {
   "cell_type": "code",
   "execution_count": 73,
   "metadata": {},
   "outputs": [
    {
     "data": {
      "text/plain": [
       "123"
      ]
     },
     "execution_count": 73,
     "metadata": {},
     "output_type": "execute_result"
    }
   ],
   "source": [
    " from math import floor\n",
    " \n",
    " math.floor(123.456)\n",
    " \n"
   ]
  },
  {
   "cell_type": "code",
   "execution_count": 75,
   "metadata": {},
   "outputs": [
    {
     "data": {
      "text/plain": [
       "3.141592653589793"
      ]
     },
     "execution_count": 75,
     "metadata": {},
     "output_type": "execute_result"
    }
   ],
   "source": [
    "from math import floor\n",
    "math.pi"
   ]
  },
  {
   "cell_type": "code",
   "execution_count": 76,
   "metadata": {},
   "outputs": [
    {
     "data": {
      "text/plain": [
       "3.141592653589793"
      ]
     },
     "execution_count": 76,
     "metadata": {},
     "output_type": "execute_result"
    }
   ],
   "source": [
    "from math import floor,pi\n",
    "pi"
   ]
  },
  {
   "cell_type": "code",
   "execution_count": 77,
   "metadata": {},
   "outputs": [
    {
     "data": {
      "text/plain": [
       "123"
      ]
     },
     "execution_count": 77,
     "metadata": {},
     "output_type": "execute_result"
    }
   ],
   "source": [
    "# rename as a function\n",
    "from math import floor as fl\n",
    "fl(123.456)"
   ]
  },
  {
   "cell_type": "code",
   "execution_count": 82,
   "metadata": {},
   "outputs": [
    {
     "data": {
      "text/plain": [
       "30"
      ]
     },
     "execution_count": 82,
     "metadata": {},
     "output_type": "execute_result"
    }
   ],
   "source": [
    "# function to generate n random numbers\n",
    "\n",
    "import random\n",
    "\n",
    "# def generaterandom(n):\n",
    "    \n",
    "random.randint(0,100)"
   ]
  },
  {
   "cell_type": "code",
   "execution_count": 87,
   "metadata": {},
   "outputs": [
    {
     "name": "stdout",
     "output_type": "stream",
     "text": [
      "775 188 774 553 207 724 953 493 351 806 600 522 953 587 161 108 539 611 815 924 983 935 264 701 664 65 313 324 833 596 926 647 164 841 943 219 430 923 579 510 259 692 553 208 677 215 669 501 201 399 73 627 965 335 63 22 920 858 852 71 397 401 181 607 863 715 834 191 505 75 299 242 91 365 889 271 370 233 215 44 163 160 570 294 959 250 484 83 943 604 900 600 151 461 780 896 105 697 802 136 "
     ]
    }
   ],
   "source": [
    "# function to generate n random numbers\n",
    "\n",
    "import random\n",
    "\n",
    "def generaterandom(n,lb,ub):\n",
    "    for i in range(0,n):  \n",
    "        print(random.randint(lb,ub),end=\" \")\n",
    "\n",
    "generaterandom(100,0,1000)        "
   ]
  },
  {
   "cell_type": "code",
   "execution_count": 5,
   "metadata": {},
   "outputs": [
    {
     "data": {
      "text/plain": [
       "True"
      ]
     },
     "execution_count": 5,
     "metadata": {},
     "output_type": "execute_result"
    }
   ],
   "source": [
    "from packages import numerical\n",
    "\n",
    "numerical.checkPrime(103)"
   ]
  },
  {
   "cell_type": "code",
   "execution_count": 8,
   "metadata": {},
   "outputs": [
    {
     "data": {
      "text/plain": [
       "False"
      ]
     },
     "execution_count": 8,
     "metadata": {},
     "output_type": "execute_result"
    }
   ],
   "source": [
    "from packages.numerical import checkPrime\n",
    "\n",
    "checkPrime(105)"
   ]
  }
 ],
 "metadata": {
  "kernelspec": {
   "display_name": "Python 3",
   "language": "python",
   "name": "python3"
  },
  "language_info": {
   "codemirror_mode": {
    "name": "ipython",
    "version": 3
   },
   "file_extension": ".py",
   "mimetype": "text/x-python",
   "name": "python",
   "nbconvert_exporter": "python",
   "pygments_lexer": "ipython3",
   "version": "3.7.3"
  }
 },
 "nbformat": 4,
 "nbformat_minor": 2
}
