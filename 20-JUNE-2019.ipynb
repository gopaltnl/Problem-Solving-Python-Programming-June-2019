{
 "cells": [
  {
   "cell_type": "markdown",
   "metadata": {},
   "source": [
    "## Date:20-JUNE-2019\n",
    "\n",
    "## Day Objectives\n",
    "\n",
    "## Regular Expressions\n",
    "\n",
    "Constructing regular expressions for various use cases.\n",
    "regular expressions module and related python.\n",
    "improving the contacts applications with name and phone number validation using regular expression.\n",
    "\n",
    "## File Handling\n",
    "Text files.\n",
    "upgrading the contact application to store contact information in a text file."
   ]
  },
  {
   "cell_type": "markdown",
   "metadata": {},
   "source": [
    "\n",
    "## Regular Expressions"
   ]
  },
  {
   "cell_type": "markdown",
   "metadata": {},
   "source": [
    "-  Pattern Matching\n",
    "\n",
    "-  symbolic  Notation of Pattern\n",
    "\n",
    "    - Pattern : Formate which repeats\n",
    "    - Pattern(RE)-represents the set of all strings matches that pattern.\n",
    "    \n",
    "- [0-9] ->Any Digit\n",
    "\n",
    "- [a-z] ->Any Lower Case Alphabet\n",
    "\n",
    "- [2468]->All single digit multiples of 2.\n",
    "\n",
    "- [8642]\n",
    "\n",
    "\n",
    "only single digit number\n",
    "\n",
    "^[0-9]{1}$\n",
    " \n",
    "only 3 digit number\n",
    "\n",
    "^[0-9]{3}$\n",
    "\n",
    "all multiples of 10\n",
    "\n",
    "[0-9]{1}*0$\n",
    "\n",
    "All multiplies of 5\n",
    "\n",
    "^[1-9][0-9]*[05]$ \n",
    "\n",
    "^([1-9][0-9]*[05])$|^([5])$ \n",
    "\n",
    "all 10 digits numbers:  \n",
    "\n",
    "^[1-9][0-9]{9}$\n",
    "\n",
    "ex:9493872308\n",
    "\n",
    "searching a particular word\n",
    "\n",
    "example\n",
    "\n",
    "[w][o][r][d] ( or )word\n",
    "\n",
    "validating phone number(India)(Start with 9704916692 \n",
    "\n",
    "\n",
    "----> Email Validation\n",
    "\n",
    "1. User Name\n",
    "\n",
    ".Length of username:[6,15]\n",
    ".No special characters other than _ .\n",
    ".Should not begin and end  with _.\n",
    ".Character set :all digits and lower case alphabet.\n",
    "\n",
    "Expression Is:^[0-9a-z][0-9a-z_.]{4,13}[0-9a-z]$\n",
    "\n",
    "2. Domain\n",
    "\n",
    ".length of domain:[3,15]s\n",
    ".no special characters\n",
    ".character set :all digits and alphabets\n",
    "\n",
    "Expression Is:^[0-9a-z]{4,17}$\n",
    "\n",
    "3. Extension\n",
    "\n",
    ".lenght of extension:[2,4]\n",
    "\n",
    ".no special characters[.com,.in,.org,.edu,info]\n",
    "\n",
    ".character set: alphabet\n",
    " \n",
    " Expression Is:^[0-9a-z][0-9a-z_.]{4,13}[0-9a-z][@][a-z0-9]{3,18}[.][a-z]{2,4}$\n",
    " \n",
    "\n",
    ". Any String of length 5 that starts with 'a' and ends with  'z'\n",
    "  \n",
    "  Expression Is: ^[a].*[z]$\n",
    "  "
   ]
  },
  {
   "cell_type": "code",
   "execution_count": 95,
   "metadata": {},
   "outputs": [
    {
     "data": {
      "text/plain": [
       "False"
      ]
     },
     "execution_count": 95,
     "metadata": {},
     "output_type": "execute_result"
    }
   ],
   "source": [
    "# Function to validate a phone number\n",
    "\n",
    "import re\n",
    "def phvalidator(number):\n",
    "    pattern = '^[6-9][0-9]{9}$|[0][6-9][0-9]{9}$^[+][9][1][6-9][0-9]{9}$'\n",
    "    if re.match(pattern,str(number)):\n",
    "        return True\n",
    "    else:\n",
    "        return False\n",
    "    return\n",
    "\n",
    "phvalidator(78935353018)   \n",
    "\n"
   ]
  },
  {
   "cell_type": "code",
   "execution_count": 93,
   "metadata": {},
   "outputs": [
    {
     "data": {
      "text/plain": [
       "False"
      ]
     },
     "execution_count": 93,
     "metadata": {},
     "output_type": "execute_result"
    }
   ],
   "source": [
    "def emailval(email):\n",
    "    pattern='^[0-9a-z][0-9a-z_.]{4,13}[0-9a-z][@][a-z0-9]{3,18}[.][a-z]{2,4}$'\n",
    "    if re.match(pattern,email):\n",
    "        return True\n",
    "    return False\n",
    "emailval(\"gopal3018@gmail.com\")"
   ]
  },
  {
   "cell_type": "code",
   "execution_count": 96,
   "metadata": {},
   "outputs": [
    {
     "data": {
      "text/plain": [
       "{'bhaskar': [9493872309, 'gopal18@gmail.com']}"
      ]
     },
     "execution_count": 96,
     "metadata": {},
     "output_type": "execute_result"
    }
   ],
   "source": [
    "contacts ={\"bhaskar\":[9493872309,'gopal18@gmail.com']}\n",
    "\n",
    "def addcontacts(name,phone,email):\n",
    "    if name in contacts:\n",
    "        print(name,\"already exists\")\n",
    "    else:\n",
    "        if not phvalidator(phone):\n",
    "            print(\"invalid phone no\")\n",
    "            return\n",
    "        if not emailval(email):\n",
    "            print(\"invalid email address\")\n",
    "            return\n",
    "        newcontacts=[]\n",
    "        newcontacts.append(phone)\n",
    "        newcontacts.append(email)\n",
    "        contacts[name]=newcontacts\n",
    "        print(\"saved\")\n",
    "    \n",
    "contacts"
   ]
  },
  {
   "cell_type": "code",
   "execution_count": 105,
   "metadata": {},
   "outputs": [
    {
     "name": "stdout",
     "output_type": "stream",
     "text": [
      "saved\n"
     ]
    },
    {
     "data": {
      "text/plain": [
       "{'bhaskar': [9493872309, 'gopal18@gmail.com'],\n",
       " 'krishna': [7893535308, 'gopal18@gmail.com'],\n",
       " 'chala': [7663535308, 'gopal18@gmail.com'],\n",
       " 'varma': [7663535308, 'gopal18@gmail.com'],\n",
       " 'seshu': [7663535308, 'gopal18@gmail.com']}"
      ]
     },
     "execution_count": 105,
     "metadata": {},
     "output_type": "execute_result"
    }
   ],
   "source": [
    "addcontacts(\"seshu\",7663535308,\"gopal18@gmail.com\")\n",
    "contacts"
   ]
  },
  {
   "cell_type": "markdown",
   "metadata": {},
   "source": [
    "## File Handling In Python\n",
    "\n",
    "File  - document containing the info residing on the perminent storage\n",
    "\n",
    "Types - Text,PDF,CSV etc\n",
    "\n",
    "File I/O-Channelling I/O dta to files.\n",
    "\n",
    "Default I/O Channels-Keyboard/Screen\n",
    "\n",
    "Change I/o Channel to files for reading and writing.\n",
    "\n",
    "Read A File -Input from file\n",
    "\n",
    "Write to a file-output to file\n",
    "\n",
    "\n",
    "\n",
    "\n",
    "\n"
   ]
  },
  {
   "cell_type": "code",
   "execution_count": 54,
   "metadata": {},
   "outputs": [
    {
     "data": {
      "text/plain": [
       "'gopal chalapathi\\ngopal chalapathi\\ngopal chalapathi\\n'"
      ]
     },
     "execution_count": 54,
     "metadata": {},
     "output_type": "execute_result"
    }
   ],
   "source": [
    "# function to read file\n",
    "\n",
    "def readFile(filename):\n",
    "    f = open(filename,'r')\n",
    "    filedata = f.read()\n",
    "    f.close()\n",
    "    return filedata\n",
    "filename = 'datafiles/data.txt'\n",
    "readFile(filename)\n",
    "    "
   ]
  },
  {
   "cell_type": "code",
   "execution_count": 53,
   "metadata": {},
   "outputs": [
    {
     "name": "stdout",
     "output_type": "stream",
     "text": [
      "gopal chalapathi\n",
      "gopal chalapathi\n",
      "gopal chalapathi\n",
      "\n"
     ]
    }
   ],
   "source": [
    "def readFile(filename):\n",
    "    f = open(filename,'r')\n",
    "    filedata = f.read()\n",
    "    f.close()\n",
    "    return filedata\n",
    "\n",
    "\n",
    "filename = 'datafiles/data.txt'\n",
    "filedata = readFile(filename)\n",
    "for line in filedata.split('\\n'):\n",
    "    print(line)"
   ]
  },
  {
   "cell_type": "code",
   "execution_count": 63,
   "metadata": {},
   "outputs": [
    {
     "name": "stdout",
     "output_type": "stream",
     "text": [
      "gopal chalapathi\n",
      "gopal chalapathi\n",
      "gopal chalapathi\n",
      "gopal chalapathi\n",
      "gopal chalapathi\n",
      "gopal chalapathi\n",
      "\n"
     ]
    }
   ],
   "source": [
    "def readFile(filename):\n",
    "    f = open(filename,'r')\n",
    "    filedata = f.read()\n",
    "    f.close()\n",
    "    return filedata\n",
    "\n",
    "filename = 'datafiles/data.txt'\n",
    "filedata = readFile(filename)\n",
    "\n",
    "def dataline(filename):\n",
    "    f = open(filename,'r')\n",
    "    for line in f:\n",
    "            print(line,end='')\n",
    "            \n",
    "dataline(filename)  \n",
    "print(readFile(filename))"
   ]
  },
  {
   "cell_type": "code",
   "execution_count": 75,
   "metadata": {},
   "outputs": [
    {
     "name": "stdout",
     "output_type": "stream",
     "text": [
      "new data\n"
     ]
    }
   ],
   "source": [
    "# function to write file\n",
    "\n",
    "def writeFile(filename,filedata):\n",
    "    \n",
    "    with open(filename,'w') as f:\n",
    "        f.write(filedata)\n",
    "    return \n",
    "filename = 'datafiles/data.txt'\n",
    "\n",
    "writeFile(filename,\"new data\") \n",
    "print(readFile(filename))\n"
   ]
  },
  {
   "cell_type": "code",
   "execution_count": 76,
   "metadata": {},
   "outputs": [
    {
     "name": "stdout",
     "output_type": "stream",
     "text": [
      "new datanew data\n"
     ]
    }
   ],
   "source": [
    "# function to append file\n",
    "\n",
    "def writeFile(filename,filedata):\n",
    "    \n",
    "    with open(filename,'a') as f:\n",
    "        f.write(filedata)\n",
    "    return \n",
    "filename = 'datafiles/data.txt'\n",
    "\n",
    "writeFile(filename,\"new data\") \n",
    "print(readFile(filename))"
   ]
  },
  {
   "cell_type": "code",
   "execution_count": 101,
   "metadata": {},
   "outputs": [],
   "source": [
    "# function to append file\n",
    "\n",
    "def appendfile(filename,filedata):\n",
    "    \n",
    "    with open(filename,'a') as f:\n",
    "        f.write(filedata)\n",
    "    return\n",
    "filedata = \"new one\\nline3\\line4\"\n",
    "appendfile(filename,filedata)"
   ]
  },
  {
   "cell_type": "code",
   "execution_count": null,
   "metadata": {},
   "outputs": [],
   "source": []
  }
 ],
 "metadata": {
  "kernelspec": {
   "display_name": "Python 3",
   "language": "python",
   "name": "python3"
  },
  "language_info": {
   "codemirror_mode": {
    "name": "ipython",
    "version": 3
   },
   "file_extension": ".py",
   "mimetype": "text/x-python",
   "name": "python",
   "nbconvert_exporter": "python",
   "pygments_lexer": "ipython3",
   "version": "3.7.3"
  }
 },
 "nbformat": 4,
 "nbformat_minor": 2
}
